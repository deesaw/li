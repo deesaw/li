{
 "cells": [
  {
   "cell_type": "code",
   "execution_count": 4,
   "metadata": {},
   "outputs": [],
   "source": [
    "import pandas as pd\n",
    "import time\n",
    "\n",
    "import math\n",
    "import numpy as np\n",
    "\n"
   ]
  },
  {
   "cell_type": "code",
   "execution_count": null,
   "metadata": {},
   "outputs": [],
   "source": [
    "pandarallel.initialize()\n",
    "\n",
    "df_size = int(5e6)\n",
    "df = pd.DataFrame(dict(a=np.random.randint(1, 8, df_size),\n",
    "                       b=np.random.rand(df_size)))\n",
    "\n",
    "    \n",
    "def func(x):\n",
    "    return math.sin(x.a**2) + math.sin(x.b**2)\n",
    "\n",
    "res_parallel = df.parallel_apply(func, axis=1)"
   ]
  },
  {
   "cell_type": "code",
   "execution_count": null,
   "metadata": {},
   "outputs": [],
   "source": [
    "\n",
    "!pip install Pillow==2.2.1"
   ]
  },
  {
   "cell_type": "code",
   "execution_count": 4,
   "metadata": {},
   "outputs": [
    {
     "ename": "ValueError",
     "evalue": "cannot find context for 'fork'",
     "output_type": "error",
     "traceback": [
      "\u001b[1;31m---------------------------------------------------------------------------\u001b[0m",
      "\u001b[1;31mValueError\u001b[0m                                Traceback (most recent call last)",
      "\u001b[1;32m<ipython-input-4-fc1553a91638>\u001b[0m in \u001b[0;36m<module>\u001b[1;34m\u001b[0m\n\u001b[1;32m----> 1\u001b[1;33m \u001b[1;32mfrom\u001b[0m \u001b[0mpandarallel\u001b[0m \u001b[1;32mimport\u001b[0m \u001b[0mpandarallel\u001b[0m\u001b[1;33m\u001b[0m\u001b[1;33m\u001b[0m\u001b[0m\n\u001b[0m",
      "\u001b[1;32m~\\Anaconda3\\lib\\site-packages\\pandarallel\\__init__.py\u001b[0m in \u001b[0;36m<module>\u001b[1;34m\u001b[0m\n\u001b[0;32m      1\u001b[0m \u001b[0m__version__\u001b[0m \u001b[1;33m=\u001b[0m \u001b[1;34m\"1.5.0\"\u001b[0m\u001b[1;33m\u001b[0m\u001b[1;33m\u001b[0m\u001b[0m\n\u001b[0;32m      2\u001b[0m \u001b[1;33m\u001b[0m\u001b[0m\n\u001b[1;32m----> 3\u001b[1;33m \u001b[1;32mfrom\u001b[0m \u001b[1;33m.\u001b[0m\u001b[0mpandarallel\u001b[0m \u001b[1;32mimport\u001b[0m \u001b[0mpandarallel\u001b[0m\u001b[1;33m\u001b[0m\u001b[1;33m\u001b[0m\u001b[0m\n\u001b[0m",
      "\u001b[1;32m~\\Anaconda3\\lib\\site-packages\\pandarallel\\pandarallel.py\u001b[0m in \u001b[0;36m<module>\u001b[1;34m\u001b[0m\n\u001b[0;32m     25\u001b[0m \u001b[1;31m# Python 3.8 on MacOS by default uses \"spawn\" instead of \"fork\" as start method for new\u001b[0m\u001b[1;33m\u001b[0m\u001b[1;33m\u001b[0m\u001b[1;33m\u001b[0m\u001b[0m\n\u001b[0;32m     26\u001b[0m \u001b[1;31m# processes, which is incompatible with pandarallel. We force it to use \"fork\" method.\u001b[0m\u001b[1;33m\u001b[0m\u001b[1;33m\u001b[0m\u001b[1;33m\u001b[0m\u001b[0m\n\u001b[1;32m---> 27\u001b[1;33m \u001b[0mcontext\u001b[0m \u001b[1;33m=\u001b[0m \u001b[0mget_context\u001b[0m\u001b[1;33m(\u001b[0m\u001b[1;34m\"fork\"\u001b[0m\u001b[1;33m)\u001b[0m\u001b[1;33m\u001b[0m\u001b[1;33m\u001b[0m\u001b[0m\n\u001b[0m\u001b[0;32m     28\u001b[0m \u001b[1;33m\u001b[0m\u001b[0m\n\u001b[0;32m     29\u001b[0m \u001b[1;31m# By default, Pandarallel use all available CPUs\u001b[0m\u001b[1;33m\u001b[0m\u001b[1;33m\u001b[0m\u001b[1;33m\u001b[0m\u001b[0m\n",
      "\u001b[1;32m~\\Anaconda3\\lib\\multiprocessing\\context.py\u001b[0m in \u001b[0;36mget_context\u001b[1;34m(self, method)\u001b[0m\n\u001b[0;32m    236\u001b[0m             \u001b[1;32mreturn\u001b[0m \u001b[0mself\u001b[0m\u001b[1;33m.\u001b[0m\u001b[0m_actual_context\u001b[0m\u001b[1;33m\u001b[0m\u001b[1;33m\u001b[0m\u001b[0m\n\u001b[0;32m    237\u001b[0m         \u001b[1;32melse\u001b[0m\u001b[1;33m:\u001b[0m\u001b[1;33m\u001b[0m\u001b[1;33m\u001b[0m\u001b[0m\n\u001b[1;32m--> 238\u001b[1;33m             \u001b[1;32mreturn\u001b[0m \u001b[0msuper\u001b[0m\u001b[1;33m(\u001b[0m\u001b[1;33m)\u001b[0m\u001b[1;33m.\u001b[0m\u001b[0mget_context\u001b[0m\u001b[1;33m(\u001b[0m\u001b[0mmethod\u001b[0m\u001b[1;33m)\u001b[0m\u001b[1;33m\u001b[0m\u001b[1;33m\u001b[0m\u001b[0m\n\u001b[0m\u001b[0;32m    239\u001b[0m \u001b[1;33m\u001b[0m\u001b[0m\n\u001b[0;32m    240\u001b[0m     \u001b[1;32mdef\u001b[0m \u001b[0mset_start_method\u001b[0m\u001b[1;33m(\u001b[0m\u001b[0mself\u001b[0m\u001b[1;33m,\u001b[0m \u001b[0mmethod\u001b[0m\u001b[1;33m,\u001b[0m \u001b[0mforce\u001b[0m\u001b[1;33m=\u001b[0m\u001b[1;32mFalse\u001b[0m\u001b[1;33m)\u001b[0m\u001b[1;33m:\u001b[0m\u001b[1;33m\u001b[0m\u001b[1;33m\u001b[0m\u001b[0m\n",
      "\u001b[1;32m~\\Anaconda3\\lib\\multiprocessing\\context.py\u001b[0m in \u001b[0;36mget_context\u001b[1;34m(self, method)\u001b[0m\n\u001b[0;32m    190\u001b[0m             \u001b[0mctx\u001b[0m \u001b[1;33m=\u001b[0m \u001b[0m_concrete_contexts\u001b[0m\u001b[1;33m[\u001b[0m\u001b[0mmethod\u001b[0m\u001b[1;33m]\u001b[0m\u001b[1;33m\u001b[0m\u001b[1;33m\u001b[0m\u001b[0m\n\u001b[0;32m    191\u001b[0m         \u001b[1;32mexcept\u001b[0m \u001b[0mKeyError\u001b[0m\u001b[1;33m:\u001b[0m\u001b[1;33m\u001b[0m\u001b[1;33m\u001b[0m\u001b[0m\n\u001b[1;32m--> 192\u001b[1;33m             \u001b[1;32mraise\u001b[0m \u001b[0mValueError\u001b[0m\u001b[1;33m(\u001b[0m\u001b[1;34m'cannot find context for %r'\u001b[0m \u001b[1;33m%\u001b[0m \u001b[0mmethod\u001b[0m\u001b[1;33m)\u001b[0m \u001b[1;32mfrom\u001b[0m \u001b[1;32mNone\u001b[0m\u001b[1;33m\u001b[0m\u001b[1;33m\u001b[0m\u001b[0m\n\u001b[0m\u001b[0;32m    193\u001b[0m         \u001b[0mctx\u001b[0m\u001b[1;33m.\u001b[0m\u001b[0m_check_available\u001b[0m\u001b[1;33m(\u001b[0m\u001b[1;33m)\u001b[0m\u001b[1;33m\u001b[0m\u001b[1;33m\u001b[0m\u001b[0m\n\u001b[0;32m    194\u001b[0m         \u001b[1;32mreturn\u001b[0m \u001b[0mctx\u001b[0m\u001b[1;33m\u001b[0m\u001b[1;33m\u001b[0m\u001b[0m\n",
      "\u001b[1;31mValueError\u001b[0m: cannot find context for 'fork'"
     ]
    }
   ],
   "source": [
    "from pandarallel import pandarallel"
   ]
  },
  {
   "cell_type": "code",
   "execution_count": null,
   "metadata": {},
   "outputs": [],
   "source": []
  },
  {
   "cell_type": "code",
   "execution_count": null,
   "metadata": {},
   "outputs": [],
   "source": [
    "!pip install mutliprocessing"
   ]
  },
  {
   "cell_type": "code",
   "execution_count": 1,
   "metadata": {},
   "outputs": [
    {
     "name": "stdout",
     "output_type": "stream",
     "text": [
      "Collecting swifter\n",
      "  Downloading swifter-1.0.3-py3-none-any.whl (12 kB)\n",
      "Requirement already satisfied: tqdm>=4.33.0 in c:\\users\\deesaw\\anaconda3\\lib\\site-packages (from swifter) (4.42.1)\n",
      "Requirement already satisfied: ipywidgets>=7.0.0 in c:\\users\\deesaw\\anaconda3\\lib\\site-packages (from swifter) (7.5.1)\n",
      "Requirement already satisfied: pandas>=0.23.0 in c:\\users\\deesaw\\anaconda3\\lib\\site-packages (from swifter) (1.0.1)\n",
      "Requirement already satisfied: dask[complete]>=0.19.0 in c:\\users\\deesaw\\anaconda3\\lib\\site-packages (from swifter) (2.11.0)\n",
      "Collecting modin[ray]>=0.7.4\n",
      "  Downloading modin-0.8.0-py3-none-win_amd64.whl (387 kB)\n",
      "Requirement already satisfied: psutil>=5.6.6 in c:\\users\\deesaw\\anaconda3\\lib\\site-packages (from swifter) (5.6.7)\n",
      "Requirement already satisfied: parso>0.4.0 in c:\\users\\deesaw\\anaconda3\\lib\\site-packages (from swifter) (0.5.2)\n",
      "Collecting bleach>=3.1.1\n",
      "  Using cached bleach-3.1.5-py2.py3-none-any.whl (151 kB)\n",
      "Requirement already satisfied: ipython>=4.0.0; python_version >= \"3.3\" in c:\\users\\deesaw\\anaconda3\\lib\\site-packages (from ipywidgets>=7.0.0->swifter) (7.12.0)\n",
      "Requirement already satisfied: nbformat>=4.2.0 in c:\\users\\deesaw\\anaconda3\\lib\\site-packages (from ipywidgets>=7.0.0->swifter) (5.0.4)\n",
      "Requirement already satisfied: ipykernel>=4.5.1 in c:\\users\\deesaw\\anaconda3\\lib\\site-packages (from ipywidgets>=7.0.0->swifter) (5.1.4)\n",
      "Requirement already satisfied: widgetsnbextension~=3.5.0 in c:\\users\\deesaw\\anaconda3\\lib\\site-packages (from ipywidgets>=7.0.0->swifter) (3.5.1)\n",
      "Requirement already satisfied: traitlets>=4.3.1 in c:\\users\\deesaw\\anaconda3\\lib\\site-packages (from ipywidgets>=7.0.0->swifter) (4.3.3)\n",
      "Requirement already satisfied: numpy>=1.13.3 in c:\\users\\deesaw\\anaconda3\\lib\\site-packages (from pandas>=0.23.0->swifter) (1.18.1)\n",
      "Requirement already satisfied: pytz>=2017.2 in c:\\users\\deesaw\\anaconda3\\lib\\site-packages (from pandas>=0.23.0->swifter) (2019.3)\n",
      "Requirement already satisfied: python-dateutil>=2.6.1 in c:\\users\\deesaw\\anaconda3\\lib\\site-packages (from pandas>=0.23.0->swifter) (2.8.1)\n",
      "Requirement already satisfied: PyYaml; extra == \"complete\" in c:\\users\\deesaw\\anaconda3\\lib\\site-packages (from dask[complete]>=0.19.0->swifter) (5.3)\n",
      "Requirement already satisfied: toolz>=0.7.3; extra == \"complete\" in c:\\users\\deesaw\\anaconda3\\lib\\site-packages (from dask[complete]>=0.19.0->swifter) (0.10.0)\n",
      "Requirement already satisfied: partd>=0.3.10; extra == \"complete\" in c:\\users\\deesaw\\anaconda3\\lib\\site-packages (from dask[complete]>=0.19.0->swifter) (1.1.0)\n",
      "Requirement already satisfied: fsspec>=0.6.0; extra == \"complete\" in c:\\users\\deesaw\\anaconda3\\lib\\site-packages (from dask[complete]>=0.19.0->swifter) (0.6.2)\n",
      "Requirement already satisfied: bokeh>=1.0.0; extra == \"complete\" in c:\\users\\deesaw\\anaconda3\\lib\\site-packages (from dask[complete]>=0.19.0->swifter) (1.4.0)\n",
      "Requirement already satisfied: cloudpickle>=0.2.1; extra == \"complete\" in c:\\users\\deesaw\\anaconda3\\lib\\site-packages (from dask[complete]>=0.19.0->swifter) (1.3.0)\n",
      "Requirement already satisfied: distributed>=2.0; extra == \"complete\" in c:\\users\\deesaw\\anaconda3\\lib\\site-packages (from dask[complete]>=0.19.0->swifter) (2.11.0)\n",
      "Requirement already satisfied: packaging in c:\\users\\deesaw\\anaconda3\\lib\\site-packages (from modin[ray]>=0.7.4->swifter) (20.1)\n",
      "Collecting ray==0.8.6; extra == \"ray\"\n",
      "  Downloading ray-0.8.6-cp37-cp37m-win_amd64.whl (16.1 MB)\n",
      "Collecting pyarrow<0.17; extra == \"ray\"\n",
      "  Downloading pyarrow-0.16.0-cp37-cp37m-win_amd64.whl (20.4 MB)\n",
      "Requirement already satisfied: webencodings in c:\\users\\deesaw\\anaconda3\\lib\\site-packages (from bleach>=3.1.1->swifter) (0.5.1)\n",
      "Requirement already satisfied: six>=1.9.0 in c:\\users\\deesaw\\anaconda3\\lib\\site-packages (from bleach>=3.1.1->swifter) (1.14.0)\n",
      "Requirement already satisfied: prompt-toolkit!=3.0.0,!=3.0.1,<3.1.0,>=2.0.0 in c:\\users\\deesaw\\anaconda3\\lib\\site-packages (from ipython>=4.0.0; python_version >= \"3.3\"->ipywidgets>=7.0.0->swifter) (3.0.3)\n",
      "Requirement already satisfied: pickleshare in c:\\users\\deesaw\\anaconda3\\lib\\site-packages (from ipython>=4.0.0; python_version >= \"3.3\"->ipywidgets>=7.0.0->swifter) (0.7.5)\n",
      "Requirement already satisfied: jedi>=0.10 in c:\\users\\deesaw\\anaconda3\\lib\\site-packages (from ipython>=4.0.0; python_version >= \"3.3\"->ipywidgets>=7.0.0->swifter) (0.14.1)\n",
      "Requirement already satisfied: backcall in c:\\users\\deesaw\\anaconda3\\lib\\site-packages (from ipython>=4.0.0; python_version >= \"3.3\"->ipywidgets>=7.0.0->swifter) (0.1.0)\n",
      "Requirement already satisfied: colorama; sys_platform == \"win32\" in c:\\users\\deesaw\\anaconda3\\lib\\site-packages (from ipython>=4.0.0; python_version >= \"3.3\"->ipywidgets>=7.0.0->swifter) (0.4.3)\n",
      "Requirement already satisfied: decorator in c:\\users\\deesaw\\anaconda3\\lib\\site-packages (from ipython>=4.0.0; python_version >= \"3.3\"->ipywidgets>=7.0.0->swifter) (4.4.1)\n",
      "Requirement already satisfied: setuptools>=18.5 in c:\\users\\deesaw\\anaconda3\\lib\\site-packages (from ipython>=4.0.0; python_version >= \"3.3\"->ipywidgets>=7.0.0->swifter) (45.2.0.post20200210)\n",
      "Requirement already satisfied: pygments in c:\\users\\deesaw\\anaconda3\\lib\\site-packages (from ipython>=4.0.0; python_version >= \"3.3\"->ipywidgets>=7.0.0->swifter) (2.5.2)\n",
      "Requirement already satisfied: ipython-genutils in c:\\users\\deesaw\\anaconda3\\lib\\site-packages (from nbformat>=4.2.0->ipywidgets>=7.0.0->swifter) (0.2.0)\n",
      "Requirement already satisfied: jupyter-core in c:\\users\\deesaw\\anaconda3\\lib\\site-packages (from nbformat>=4.2.0->ipywidgets>=7.0.0->swifter) (4.6.1)\n",
      "Requirement already satisfied: jsonschema!=2.5.0,>=2.4 in c:\\users\\deesaw\\anaconda3\\lib\\site-packages (from nbformat>=4.2.0->ipywidgets>=7.0.0->swifter) (3.2.0)\n",
      "Requirement already satisfied: jupyter-client in c:\\users\\deesaw\\anaconda3\\lib\\site-packages (from ipykernel>=4.5.1->ipywidgets>=7.0.0->swifter) (5.3.4)\n",
      "Requirement already satisfied: tornado>=4.2 in c:\\users\\deesaw\\anaconda3\\lib\\site-packages (from ipykernel>=4.5.1->ipywidgets>=7.0.0->swifter) (6.0.3)\n",
      "Requirement already satisfied: notebook>=4.4.1 in c:\\users\\deesaw\\anaconda3\\lib\\site-packages (from widgetsnbextension~=3.5.0->ipywidgets>=7.0.0->swifter) (6.0.3)\n",
      "Requirement already satisfied: locket in c:\\users\\deesaw\\anaconda3\\lib\\site-packages (from partd>=0.3.10; extra == \"complete\"->dask[complete]>=0.19.0->swifter) (0.2.0)\n",
      "Requirement already satisfied: Jinja2>=2.7 in c:\\users\\deesaw\\anaconda3\\lib\\site-packages (from bokeh>=1.0.0; extra == \"complete\"->dask[complete]>=0.19.0->swifter) (2.11.1)\n",
      "Requirement already satisfied: pillow>=4.0 in c:\\users\\deesaw\\anaconda3\\lib\\site-packages (from bokeh>=1.0.0; extra == \"complete\"->dask[complete]>=0.19.0->swifter) (7.0.0)\n",
      "Requirement already satisfied: zict>=0.1.3 in c:\\users\\deesaw\\anaconda3\\lib\\site-packages (from distributed>=2.0; extra == \"complete\"->dask[complete]>=0.19.0->swifter) (1.0.0)\n",
      "Requirement already satisfied: msgpack>=0.6.0 in c:\\users\\deesaw\\anaconda3\\lib\\site-packages (from distributed>=2.0; extra == \"complete\"->dask[complete]>=0.19.0->swifter) (0.6.1)\n",
      "Requirement already satisfied: click>=6.6 in c:\\users\\deesaw\\anaconda3\\lib\\site-packages (from distributed>=2.0; extra == \"complete\"->dask[complete]>=0.19.0->swifter) (7.0)\n",
      "Requirement already satisfied: tblib>=1.6.0 in c:\\users\\deesaw\\anaconda3\\lib\\site-packages (from distributed>=2.0; extra == \"complete\"->dask[complete]>=0.19.0->swifter) (1.6.0)\n",
      "Requirement already satisfied: sortedcontainers!=2.0.0,!=2.0.1 in c:\\users\\deesaw\\anaconda3\\lib\\site-packages (from distributed>=2.0; extra == \"complete\"->dask[complete]>=0.19.0->swifter) (2.1.0)\n",
      "Requirement already satisfied: pyparsing>=2.0.2 in c:\\users\\deesaw\\anaconda3\\lib\\site-packages (from packaging->modin[ray]>=0.7.4->swifter) (2.4.6)\n",
      "Collecting py-spy>=0.2.0\n",
      "  Downloading py_spy-0.3.3-py2.py3-none-win_amd64.whl (1.4 MB)\n",
      "Requirement already satisfied: protobuf>=3.8.0 in c:\\users\\deesaw\\anaconda3\\lib\\site-packages (from ray==0.8.6; extra == \"ray\"->modin[ray]>=0.7.4->swifter) (3.12.3)\n",
      "Requirement already satisfied: filelock in c:\\users\\deesaw\\anaconda3\\lib\\site-packages (from ray==0.8.6; extra == \"ray\"->modin[ray]>=0.7.4->swifter) (3.0.12)\n",
      "Collecting google\n",
      "  Downloading google-3.0.0-py2.py3-none-any.whl (45 kB)\n",
      "Collecting redis<3.5.0,>=3.3.2\n",
      "  Downloading redis-3.4.1-py2.py3-none-any.whl (71 kB)\n",
      "Requirement already satisfied: grpcio in c:\\users\\deesaw\\anaconda3\\lib\\site-packages (from ray==0.8.6; extra == \"ray\"->modin[ray]>=0.7.4->swifter) (1.30.0)\n",
      "Collecting aiohttp\n",
      "  Downloading aiohttp-3.6.2-cp37-cp37m-win_amd64.whl (649 kB)\n",
      "Requirement already satisfied: wcwidth in c:\\users\\deesaw\\anaconda3\\lib\\site-packages (from prompt-toolkit!=3.0.0,!=3.0.1,<3.1.0,>=2.0.0->ipython>=4.0.0; python_version >= \"3.3\"->ipywidgets>=7.0.0->swifter) (0.1.8)\n",
      "Requirement already satisfied: pywin32>=1.0; sys_platform == \"win32\" in c:\\users\\deesaw\\anaconda3\\lib\\site-packages (from jupyter-core->nbformat>=4.2.0->ipywidgets>=7.0.0->swifter) (227)\n",
      "Requirement already satisfied: pyrsistent>=0.14.0 in c:\\users\\deesaw\\anaconda3\\lib\\site-packages (from jsonschema!=2.5.0,>=2.4->nbformat>=4.2.0->ipywidgets>=7.0.0->swifter) (0.15.7)\n",
      "Requirement already satisfied: attrs>=17.4.0 in c:\\users\\deesaw\\anaconda3\\lib\\site-packages (from jsonschema!=2.5.0,>=2.4->nbformat>=4.2.0->ipywidgets>=7.0.0->swifter) (19.3.0)\n",
      "Requirement already satisfied: importlib-metadata; python_version < \"3.8\" in c:\\users\\deesaw\\anaconda3\\lib\\site-packages (from jsonschema!=2.5.0,>=2.4->nbformat>=4.2.0->ipywidgets>=7.0.0->swifter) (1.6.1)\n",
      "Requirement already satisfied: pyzmq>=13 in c:\\users\\deesaw\\anaconda3\\lib\\site-packages (from jupyter-client->ipykernel>=4.5.1->ipywidgets>=7.0.0->swifter) (18.1.1)\n",
      "Requirement already satisfied: Send2Trash in c:\\users\\deesaw\\anaconda3\\lib\\site-packages (from notebook>=4.4.1->widgetsnbextension~=3.5.0->ipywidgets>=7.0.0->swifter) (1.5.0)\n",
      "Requirement already satisfied: nbconvert in c:\\users\\deesaw\\anaconda3\\lib\\site-packages (from notebook>=4.4.1->widgetsnbextension~=3.5.0->ipywidgets>=7.0.0->swifter) (5.6.1)\n",
      "Requirement already satisfied: prometheus-client in c:\\users\\deesaw\\anaconda3\\lib\\site-packages (from notebook>=4.4.1->widgetsnbextension~=3.5.0->ipywidgets>=7.0.0->swifter) (0.7.1)\n",
      "Requirement already satisfied: terminado>=0.8.1 in c:\\users\\deesaw\\anaconda3\\lib\\site-packages (from notebook>=4.4.1->widgetsnbextension~=3.5.0->ipywidgets>=7.0.0->swifter) (0.8.3)\n",
      "Requirement already satisfied: MarkupSafe>=0.23 in c:\\users\\deesaw\\anaconda3\\lib\\site-packages (from Jinja2>=2.7->bokeh>=1.0.0; extra == \"complete\"->dask[complete]>=0.19.0->swifter) (1.1.1)\n",
      "Requirement already satisfied: heapdict in c:\\users\\deesaw\\anaconda3\\lib\\site-packages (from zict>=0.1.3->distributed>=2.0; extra == \"complete\"->dask[complete]>=0.19.0->swifter) (1.0.1)\n",
      "Requirement already satisfied: beautifulsoup4 in c:\\users\\deesaw\\anaconda3\\lib\\site-packages (from google->ray==0.8.6; extra == \"ray\"->modin[ray]>=0.7.4->swifter) (4.8.2)\n",
      "Collecting multidict<5.0,>=4.5\n",
      "  Downloading multidict-4.7.6-cp37-cp37m-win_amd64.whl (48 kB)\n",
      "Collecting async-timeout<4.0,>=3.0\n",
      "  Downloading async_timeout-3.0.1-py3-none-any.whl (8.2 kB)\n",
      "Collecting yarl<2.0,>=1.0\n",
      "  Downloading yarl-1.5.1-cp37-cp37m-win_amd64.whl (127 kB)\n",
      "Requirement already satisfied: chardet<4.0,>=2.0 in c:\\users\\deesaw\\anaconda3\\lib\\site-packages (from aiohttp->ray==0.8.6; extra == \"ray\"->modin[ray]>=0.7.4->swifter) (3.0.4)\n",
      "Requirement already satisfied: zipp>=0.5 in c:\\users\\deesaw\\anaconda3\\lib\\site-packages (from importlib-metadata; python_version < \"3.8\"->jsonschema!=2.5.0,>=2.4->nbformat>=4.2.0->ipywidgets>=7.0.0->swifter) (2.2.0)\n",
      "Requirement already satisfied: pandocfilters>=1.4.1 in c:\\users\\deesaw\\anaconda3\\lib\\site-packages (from nbconvert->notebook>=4.4.1->widgetsnbextension~=3.5.0->ipywidgets>=7.0.0->swifter) (1.4.2)\n",
      "Requirement already satisfied: entrypoints>=0.2.2 in c:\\users\\deesaw\\anaconda3\\lib\\site-packages (from nbconvert->notebook>=4.4.1->widgetsnbextension~=3.5.0->ipywidgets>=7.0.0->swifter) (0.3)\n",
      "Requirement already satisfied: mistune<2,>=0.8.1 in c:\\users\\deesaw\\anaconda3\\lib\\site-packages (from nbconvert->notebook>=4.4.1->widgetsnbextension~=3.5.0->ipywidgets>=7.0.0->swifter) (0.8.4)\n",
      "Requirement already satisfied: defusedxml in c:\\users\\deesaw\\anaconda3\\lib\\site-packages (from nbconvert->notebook>=4.4.1->widgetsnbextension~=3.5.0->ipywidgets>=7.0.0->swifter) (0.6.0)\n",
      "Requirement already satisfied: testpath in c:\\users\\deesaw\\anaconda3\\lib\\site-packages (from nbconvert->notebook>=4.4.1->widgetsnbextension~=3.5.0->ipywidgets>=7.0.0->swifter) (0.4.4)\n",
      "Requirement already satisfied: soupsieve>=1.2 in c:\\users\\deesaw\\anaconda3\\lib\\site-packages (from beautifulsoup4->google->ray==0.8.6; extra == \"ray\"->modin[ray]>=0.7.4->swifter) (1.9.5)\n",
      "Requirement already satisfied: idna>=2.0 in c:\\users\\deesaw\\anaconda3\\lib\\site-packages (from yarl<2.0,>=1.0->aiohttp->ray==0.8.6; extra == \"ray\"->modin[ray]>=0.7.4->swifter) (2.8)\n",
      "Collecting typing-extensions>=3.7.4; python_version < \"3.8\"\n",
      "  Downloading typing_extensions-3.7.4.3-py3-none-any.whl (22 kB)\n",
      "Installing collected packages: py-spy, google, redis, multidict, async-timeout, typing-extensions, yarl, aiohttp, ray, pyarrow, modin, bleach, swifter\n",
      "  Attempting uninstall: bleach\n",
      "    Found existing installation: bleach 3.1.0\n",
      "    Uninstalling bleach-3.1.0:\n",
      "      Successfully uninstalled bleach-3.1.0\n",
      "Successfully installed aiohttp-3.6.2 async-timeout-3.0.1 bleach-3.1.5 google-3.0.0 modin-0.8.0 multidict-4.7.6 py-spy-0.3.3 pyarrow-0.16.0 ray-0.8.6 redis-3.4.1 swifter-1.0.3 typing-extensions-3.7.4.3 yarl-1.5.1\n"
     ]
    },
    {
     "name": "stderr",
     "output_type": "stream",
     "text": [
      "ERROR: modin 0.8.0 has requirement pandas==1.0.5, but you'll have pandas 1.0.1 which is incompatible.\n"
     ]
    },
    {
     "ename": "NameError",
     "evalue": "name 'data' is not defined",
     "output_type": "error",
     "traceback": [
      "\u001b[1;31m---------------------------------------------------------------------------\u001b[0m",
      "\u001b[1;31mNameError\u001b[0m                                 Traceback (most recent call last)",
      "\u001b[1;32m<ipython-input-1-3731ad2e38ae>\u001b[0m in \u001b[0;36m<module>\u001b[1;34m\u001b[0m\n\u001b[0;32m      5\u001b[0m     \u001b[1;32mreturn\u001b[0m \u001b[0mdata\u001b[0m \u001b[1;33m*\u001b[0m \u001b[1;36m10\u001b[0m\u001b[1;33m\u001b[0m\u001b[1;33m\u001b[0m\u001b[0m\n\u001b[0;32m      6\u001b[0m \u001b[1;33m\u001b[0m\u001b[0m\n\u001b[1;32m----> 7\u001b[1;33m \u001b[0mdata\u001b[0m\u001b[1;33m[\u001b[0m\u001b[1;34m'out'\u001b[0m\u001b[1;33m]\u001b[0m \u001b[1;33m=\u001b[0m \u001b[0mdata\u001b[0m\u001b[1;33m[\u001b[0m\u001b[1;34m'in'\u001b[0m\u001b[1;33m]\u001b[0m\u001b[1;33m.\u001b[0m\u001b[0mswifter\u001b[0m\u001b[1;33m.\u001b[0m\u001b[0mapply\u001b[0m\u001b[1;33m(\u001b[0m\u001b[0msome_function\u001b[0m\u001b[1;33m)\u001b[0m\u001b[1;33m\u001b[0m\u001b[1;33m\u001b[0m\u001b[0m\n\u001b[0m",
      "\u001b[1;31mNameError\u001b[0m: name 'data' is not defined"
     ]
    }
   ],
   "source": [
    "!pip install swifter\n"
   ]
  },
  {
   "cell_type": "code",
   "execution_count": 3,
   "metadata": {},
   "outputs": [
    {
     "ename": "TypeError",
     "evalue": "some_function() missing 1 required positional argument: 'n'",
     "output_type": "error",
     "traceback": [
      "\u001b[1;31m---------------------------------------------------------------------------\u001b[0m",
      "\u001b[1;31mTypeError\u001b[0m                                 Traceback (most recent call last)",
      "\u001b[1;32m<ipython-input-3-ef34808f150b>\u001b[0m in \u001b[0;36m<module>\u001b[1;34m\u001b[0m\n\u001b[0;32m      6\u001b[0m \u001b[0mdata\u001b[0m\u001b[1;33m=\u001b[0m\u001b[0mpd\u001b[0m\u001b[1;33m.\u001b[0m\u001b[0mDataFrame\u001b[0m\u001b[1;33m(\u001b[0m\u001b[1;33m)\u001b[0m\u001b[1;33m\u001b[0m\u001b[1;33m\u001b[0m\u001b[0m\n\u001b[0;32m      7\u001b[0m \u001b[0mdata\u001b[0m\u001b[1;33m[\u001b[0m\u001b[1;34m'in'\u001b[0m\u001b[1;33m]\u001b[0m\u001b[1;33m=\u001b[0m\u001b[1;33m[\u001b[0m\u001b[1;36m1\u001b[0m\u001b[1;33m,\u001b[0m\u001b[1;36m2\u001b[0m\u001b[1;33m,\u001b[0m\u001b[1;36m3\u001b[0m\u001b[1;33m,\u001b[0m\u001b[1;36m4\u001b[0m\u001b[1;33m,\u001b[0m\u001b[1;36m5\u001b[0m\u001b[1;33m,\u001b[0m\u001b[1;36m6\u001b[0m\u001b[1;33m,\u001b[0m\u001b[1;36m7\u001b[0m\u001b[1;33m,\u001b[0m\u001b[1;36m8\u001b[0m\u001b[1;33m,\u001b[0m\u001b[1;36m9\u001b[0m\u001b[1;33m,\u001b[0m\u001b[1;36m10\u001b[0m\u001b[1;33m]\u001b[0m\u001b[1;33m\u001b[0m\u001b[1;33m\u001b[0m\u001b[0m\n\u001b[1;32m----> 8\u001b[1;33m \u001b[0mdata\u001b[0m\u001b[1;33m[\u001b[0m\u001b[1;34m'out'\u001b[0m\u001b[1;33m]\u001b[0m \u001b[1;33m=\u001b[0m \u001b[0mdata\u001b[0m\u001b[1;33m[\u001b[0m\u001b[1;34m'in'\u001b[0m\u001b[1;33m]\u001b[0m\u001b[1;33m.\u001b[0m\u001b[0mswifter\u001b[0m\u001b[1;33m.\u001b[0m\u001b[0mapply\u001b[0m\u001b[1;33m(\u001b[0m\u001b[0msome_function\u001b[0m\u001b[1;33m(\u001b[0m\u001b[1;36m2\u001b[0m\u001b[1;33m)\u001b[0m\u001b[1;33m)\u001b[0m\u001b[1;33m\u001b[0m\u001b[1;33m\u001b[0m\u001b[0m\n\u001b[0m",
      "\u001b[1;31mTypeError\u001b[0m: some_function() missing 1 required positional argument: 'n'"
     ]
    }
   ],
   "source": [
    "import swifter\n",
    "import pandas as pd\n",
    "\n",
    "def some_function(data):\n",
    "    return data * 10 * n\n",
    "data=pd.DataFrame()\n",
    "data['in']=[1,2,3,4,5,6,7,8,9,10]\n",
    "data['out'] = data['in'].swifter.apply(some_function)"
   ]
  },
  {
   "cell_type": "code",
   "execution_count": 3,
   "metadata": {
    "scrolled": true
   },
   "outputs": [
    {
     "data": {
      "text/html": [
       "<div>\n",
       "<style scoped>\n",
       "    .dataframe tbody tr th:only-of-type {\n",
       "        vertical-align: middle;\n",
       "    }\n",
       "\n",
       "    .dataframe tbody tr th {\n",
       "        vertical-align: top;\n",
       "    }\n",
       "\n",
       "    .dataframe thead th {\n",
       "        text-align: right;\n",
       "    }\n",
       "</style>\n",
       "<table border=\"1\" class=\"dataframe\">\n",
       "  <thead>\n",
       "    <tr style=\"text-align: right;\">\n",
       "      <th></th>\n",
       "      <th>in</th>\n",
       "      <th>out</th>\n",
       "    </tr>\n",
       "  </thead>\n",
       "  <tbody>\n",
       "    <tr>\n",
       "      <th>0</th>\n",
       "      <td>1</td>\n",
       "      <td>10</td>\n",
       "    </tr>\n",
       "    <tr>\n",
       "      <th>1</th>\n",
       "      <td>2</td>\n",
       "      <td>20</td>\n",
       "    </tr>\n",
       "    <tr>\n",
       "      <th>2</th>\n",
       "      <td>3</td>\n",
       "      <td>30</td>\n",
       "    </tr>\n",
       "    <tr>\n",
       "      <th>3</th>\n",
       "      <td>4</td>\n",
       "      <td>40</td>\n",
       "    </tr>\n",
       "    <tr>\n",
       "      <th>4</th>\n",
       "      <td>5</td>\n",
       "      <td>50</td>\n",
       "    </tr>\n",
       "    <tr>\n",
       "      <th>5</th>\n",
       "      <td>6</td>\n",
       "      <td>60</td>\n",
       "    </tr>\n",
       "    <tr>\n",
       "      <th>6</th>\n",
       "      <td>7</td>\n",
       "      <td>70</td>\n",
       "    </tr>\n",
       "    <tr>\n",
       "      <th>7</th>\n",
       "      <td>8</td>\n",
       "      <td>80</td>\n",
       "    </tr>\n",
       "    <tr>\n",
       "      <th>8</th>\n",
       "      <td>9</td>\n",
       "      <td>90</td>\n",
       "    </tr>\n",
       "    <tr>\n",
       "      <th>9</th>\n",
       "      <td>10</td>\n",
       "      <td>100</td>\n",
       "    </tr>\n",
       "  </tbody>\n",
       "</table>\n",
       "</div>"
      ],
      "text/plain": [
       "   in  out\n",
       "0   1   10\n",
       "1   2   20\n",
       "2   3   30\n",
       "3   4   40\n",
       "4   5   50\n",
       "5   6   60\n",
       "6   7   70\n",
       "7   8   80\n",
       "8   9   90\n",
       "9  10  100"
      ]
     },
     "execution_count": 3,
     "metadata": {},
     "output_type": "execute_result"
    }
   ],
   "source": [
    "data"
   ]
  },
  {
   "cell_type": "code",
   "execution_count": 4,
   "metadata": {},
   "outputs": [],
   "source": [
    "import cv2"
   ]
  },
  {
   "cell_type": "code",
   "execution_count": null,
   "metadata": {},
   "outputs": [],
   "source": [
    "import"
   ]
  },
  {
   "cell_type": "code",
   "execution_count": 9,
   "metadata": {},
   "outputs": [],
   "source": [
    "a=cv2.imread(r\"C:\\Users\\deesaw\\Desktop\\GPFI\\Flask app\\Takeda\\uploads_f\\Doctortest6\\Doctor_Page_02.png\")\n"
   ]
  },
  {
   "cell_type": "code",
   "execution_count": 18,
   "metadata": {},
   "outputs": [],
   "source": [
    "def preprocessimage(image):\n",
    "    contrast_file = cv2.imread(image)\n",
    "    contrast_file = cv2.resize(contrast_file,(224,224),3)\n",
    "    f1=get_feature_vector(contrast_file)\n",
    "    return f1\n",
    "def slideSimilarity(uploaded_file):\n",
    "    master = os.path.join(os.getcwd(),\"Takeda\")\n",
    "    uploaded_file='uploads_f\\\\' + uploaded_file\n",
    "    slave = os.path.join(os.getcwd(),uploaded_file)\n",
    "    print(master)\n",
    "    print(slave)\n",
    "    master_files = pd.DataFrame([ file_cont for file_cont in os.listdir(master) if file_cont.split('.')[1]=='png' ],columns=['MasterName'])\n",
    "    master_files['Index'] = 1\n",
    "    master_files['Filepath'] = master+'\\\\'+master_files['MasterName']\n",
    "    slave_files = pd.DataFrame([ file_cont for file_cont in os.listdir(slave) if file_cont.split('.')[1]=='png' ],columns=['SlaveName'])\n",
    "    slave_files['Index'] = 1\n",
    "    slave_files['Filepath'] = slave+'\\\\'+slave_files['SlaveName']\n",
    "    df_slave_master =  master_files.merge(slave_files,on='Index',how=\"left\").head(2)\n",
    "    print(df_slave_master)\n",
    "    print('featurevector_Doctor')\n",
    "    df_slave_master['featurevector_y']=df_slave_master['Filepath_y'].swifter.apply(preprocessimage)\n",
    "    print('featurevector_Takeda')\n",
    "    df_slave_master['featurevector_x']=df_slave_master['Filepath_x'].swifter.apply(preprocessimage)\n",
    "    df_slave_master['similarity']  =  df_slave_master['featurevector_x','featurevector_y'].swifter.apply(calculate_similarity)\n",
    "    print(df_slave_master.head)"
   ]
  },
  {
   "cell_type": "code",
   "execution_count": 16,
   "metadata": {},
   "outputs": [
    {
     "data": {
      "text/plain": [
       "array([[[255, 255, 255],\n",
       "        [255, 255, 255],\n",
       "        [255, 255, 255],\n",
       "        ...,\n",
       "        [255, 255, 255],\n",
       "        [255, 255, 255],\n",
       "        [255, 255, 255]],\n",
       "\n",
       "       [[255, 255, 255],\n",
       "        [255, 255, 255],\n",
       "        [255, 255, 255],\n",
       "        ...,\n",
       "        [255, 255, 255],\n",
       "        [255, 255, 255],\n",
       "        [255, 255, 255]],\n",
       "\n",
       "       [[255, 255, 255],\n",
       "        [255, 255, 255],\n",
       "        [255, 255, 255],\n",
       "        ...,\n",
       "        [255, 255, 255],\n",
       "        [255, 255, 255],\n",
       "        [255, 255, 255]],\n",
       "\n",
       "       ...,\n",
       "\n",
       "       [[255, 255, 255],\n",
       "        [255, 255, 255],\n",
       "        [255, 255, 255],\n",
       "        ...,\n",
       "        [255, 255, 255],\n",
       "        [255, 255, 255],\n",
       "        [255, 255, 255]],\n",
       "\n",
       "       [[255, 255, 255],\n",
       "        [255, 255, 255],\n",
       "        [255, 255, 255],\n",
       "        ...,\n",
       "        [255, 255, 255],\n",
       "        [255, 255, 255],\n",
       "        [255, 255, 255]],\n",
       "\n",
       "       [[255, 255, 255],\n",
       "        [255, 255, 255],\n",
       "        [255, 255, 255],\n",
       "        ...,\n",
       "        [255, 255, 255],\n",
       "        [255, 255, 255],\n",
       "        [255, 255, 255]]], dtype=uint8)"
      ]
     },
     "execution_count": 16,
     "metadata": {},
     "output_type": "execute_result"
    }
   ],
   "source": [
    "#C:\\Users\\deesaw\\Desktop\\GPFI\\Flask app\\Takeda\\uploads_f\\Doctortest6\n",
    "preprocessimage(r\"C:\\Users\\deesaw\\Desktop\\GPFI\\Flask app\\Takeda\\uploads_f\\Doctortest6\\Doctor_Page_02.png\")"
   ]
  },
  {
   "cell_type": "code",
   "execution_count": null,
   "metadata": {},
   "outputs": [],
   "source": [
    "slideSimilarity"
   ]
  },
  {
   "cell_type": "code",
   "execution_count": 14,
   "metadata": {},
   "outputs": [],
   "source": [
    "import pandas as pd\n",
    "import numpy as np\n",
    "import matplotlib.pyplot as plt\n",
    "import matplotlib.image as mpimg\n",
    "import h5py\n",
    "import cv2\n",
    "import os\n",
    "\n",
    "from tensorflow.keras.layers import Conv2D, Flatten, Dense,Input,concatenate,MaxPooling2D\n",
    "from tensorflow.keras.layers import Activation,Dropout\n",
    "from tensorflow.keras.models import Model\n",
    "from tensorflow.keras.models import Sequential\n",
    "from tensorflow import keras\n",
    "\n",
    "import swifter\n",
    "\n",
    "#from keras.layers import Flatten, Dense, Input,concatenate\n",
    "#from keras.layers import Conv2D, MaxPooling2D\n",
    "#from keras.layers import Activation, Dropout\n",
    "#from keras.models import Model\n",
    "#from keras.models import Sequential\n",
    "#import tensorflow as tf\n",
    "from scipy import spatial\n",
    "import warnings\n",
    "warnings.filterwarnings(\"ignore\")\n"
   ]
  },
  {
   "cell_type": "code",
   "execution_count": 17,
   "metadata": {},
   "outputs": [],
   "source": [
    "\n",
    "## Load vgg16 pre-trained model\n",
    "vgg16 = keras.applications.VGG16(weights='imagenet', include_top=True, pooling='max', input_shape=(224, 224, 3))\n",
    "## Extracted features\n",
    "basemodel = Model(inputs=vgg16.input, outputs=vgg16.get_layer('fc2').output)\n",
    "\n",
    "##To get feature vector\n",
    "def get_feature_vector(img):\n",
    "\n",
    "    img1 = cv2.resize(img, (224, 224))\n",
    "    feature_vector = basemodel.predict(img1.reshape(1, 224, 224, 3))\n",
    "    return feature_vector"
   ]
  },
  {
   "cell_type": "code",
   "execution_count": null,
   "metadata": {},
   "outputs": [],
   "source": [
    "df_slave_master['featurevector_y']=df_slave_master['Filepath_y'].swifter.apply(preprocessimage)\n",
    "    print('featurevector_Takeda')\n",
    "    df_slave_master['featurevector_x']=df_slave_master['Filepath_x'].swifter.apply(preprocessimage)\n",
    "    df_slave_master['similarity']  =  df_slave_master['featurevector_x','featurevector_y'].swifter.apply(calculate_similarity)\n",
    "    print(df_slave_master.head)"
   ]
  }
 ],
 "metadata": {
  "kernelspec": {
   "display_name": "Python 3",
   "language": "python",
   "name": "python3"
  },
  "language_info": {
   "codemirror_mode": {
    "name": "ipython",
    "version": 3
   },
   "file_extension": ".py",
   "mimetype": "text/x-python",
   "name": "python",
   "nbconvert_exporter": "python",
   "pygments_lexer": "ipython3",
   "version": "3.7.6"
  }
 },
 "nbformat": 4,
 "nbformat_minor": 4
}
