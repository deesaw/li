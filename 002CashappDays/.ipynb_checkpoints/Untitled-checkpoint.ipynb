{
 "cells": [
  {
   "cell_type": "code",
   "execution_count": 1,
   "metadata": {},
   "outputs": [
    {
     "name": "stdout",
     "output_type": "stream",
     "text": [
      "Index(['Payer', 'Debit_CreditInd.', 'PercentofPayAmount', 'DaystoPay'], dtype='object')\n"
     ]
    },
    {
     "ename": "NameError",
     "evalue": "name 'dataseta' is not defined",
     "output_type": "error",
     "traceback": [
      "\u001b[1;31m---------------------------------------------------------------------------\u001b[0m",
      "\u001b[1;31mNameError\u001b[0m                                 Traceback (most recent call last)",
      "\u001b[1;32m<ipython-input-1-660323a4ccb3>\u001b[0m in \u001b[0;36m<module>\u001b[1;34m\u001b[0m\n\u001b[0;32m     14\u001b[0m \u001b[0mprint\u001b[0m\u001b[1;33m(\u001b[0m\u001b[0mdf\u001b[0m\u001b[1;33m.\u001b[0m\u001b[0mcolumns\u001b[0m\u001b[1;33m)\u001b[0m\u001b[1;33m\u001b[0m\u001b[1;33m\u001b[0m\u001b[0m\n\u001b[0;32m     15\u001b[0m \u001b[0mdf\u001b[0m\u001b[1;33m.\u001b[0m\u001b[0mcolumns\u001b[0m\u001b[1;33m=\u001b[0m\u001b[1;33m[\u001b[0m\u001b[1;34m'Payer'\u001b[0m\u001b[1;33m,\u001b[0m \u001b[1;34m'Debit_CreditInd.'\u001b[0m\u001b[1;33m,\u001b[0m \u001b[1;34m'PercentofPayAmount'\u001b[0m\u001b[1;33m,\u001b[0m \u001b[1;34m'DaystoPay'\u001b[0m\u001b[1;33m]\u001b[0m\u001b[1;33m\u001b[0m\u001b[1;33m\u001b[0m\u001b[0m\n\u001b[1;32m---> 16\u001b[1;33m \u001b[0mdf\u001b[0m\u001b[1;33m.\u001b[0m\u001b[0mdrop\u001b[0m\u001b[1;33m(\u001b[0m\u001b[0mdataseta\u001b[0m\u001b[1;33m[\u001b[0m\u001b[0mdf\u001b[0m\u001b[1;33m[\u001b[0m\u001b[1;34m'Payer'\u001b[0m\u001b[1;33m]\u001b[0m\u001b[1;33m==\u001b[0m\u001b[1;34m'*'\u001b[0m\u001b[1;33m]\u001b[0m\u001b[1;33m.\u001b[0m\u001b[0mindex\u001b[0m\u001b[1;33m,\u001b[0m\u001b[0minplace\u001b[0m\u001b[1;33m=\u001b[0m\u001b[1;32mTrue\u001b[0m\u001b[1;33m)\u001b[0m\u001b[1;33m\u001b[0m\u001b[1;33m\u001b[0m\u001b[0m\n\u001b[0m\u001b[0;32m     17\u001b[0m \u001b[0mdf\u001b[0m\u001b[1;33m.\u001b[0m\u001b[0mdrop\u001b[0m\u001b[1;33m(\u001b[0m\u001b[0mcolumns\u001b[0m\u001b[1;33m=\u001b[0m\u001b[1;34m'PercentofPayAmount'\u001b[0m\u001b[1;33m,\u001b[0m\u001b[0minplace\u001b[0m\u001b[1;33m=\u001b[0m\u001b[1;32mTrue\u001b[0m\u001b[1;33m)\u001b[0m\u001b[1;33m\u001b[0m\u001b[1;33m\u001b[0m\u001b[0m\n\u001b[0;32m     18\u001b[0m Convert_dict = {'Payer': str,\n",
      "\u001b[1;31mNameError\u001b[0m: name 'dataseta' is not defined"
     ]
    }
   ],
   "source": [
    "    import numpy as np\n",
    "    import pandas as pd\n",
    "    from sklearn.model_selection import train_test_split\n",
    "    from sklearn.preprocessing import LabelEncoder\n",
    "    from sklearn.preprocessing import OneHotEncoder\n",
    "    import pickle\n",
    "    from sklearn.metrics import confusion_matrix, accuracy_score,average_precision_score,classification_report,f1_score\n",
    "    from sklearn.compose import ColumnTransformer\n",
    "    import matplotlib.pyplot as plt\n",
    "    from sklearn.ensemble import RandomForestClassifier\n",
    "    import os\n",
    "    df_raw = pd.read_csv(r'dataset/Train.tsv', sep='\\t',dtype=object)\n",
    "    df = df_raw.copy()\n",
    "    print(df.columns)\n",
    "    df.columns=['Payer', 'Debit_CreditInd.', 'PercentofPayAmount', 'DaystoPay']\n",
    "    df.drop(df[df['Payer']=='*'].index,inplace=True)\n",
    "    df.drop(columns='PercentofPayAmount',inplace=True)\n",
    "    Convert_dict = {'Payer': str,\n",
    "                'Debit_CreditInd.': str,\n",
    "                'DaystoPay': float\n",
    "               }\n",
    "    df = df.astype(Convert_dict)\n",
    "    print(df.head())\n",
    "    print(df.describe())\n",
    "    print(df.isnull().sum())\n",
    "    X1,y1=df[[\"LIFNR\", \"MAT1\", \"MAT2\",\"MAT3\",\"SP_KUNNR\"]],df[\"MATNR\"]\n",
    "    dataseti=df.groupby(['Payer','Debit_CreditInd.'])['DaystoPay'].mean()\n",
    "    datasetii = pd.DataFrame(dataseti).reset_index()\n",
    "    inner_join = pd.merge(df,\n",
    "                      datasetii,\n",
    "                      on =['Payer','Debit_CreditInd.'],\n",
    "                      how ='inner')\n",
    "    inner_join['rank'] = inner_join.groupby(['Payer','Debit_CreditInd.'])['DaystoPay_x'].rank()\n",
    "    dataset_ready=inner_join[['Payer','Debit_CreditInd.','rank','DaystoPay_x']]\n",
    "    dataset=dataset_ready\n",
    "    X1=dataset[['Payer','Debit_CreditInd.','rank']]\n",
    "\n",
    "    #OnehotEncoding\n",
    "    ct = ColumnTransformer(transformers=[('encoder', OneHotEncoder(sparse=False,handle_unknown='ignore'), [0,1])], remainder='passthrough')\n",
    "    X = np.array(ct.fit_transform(X1))\n",
    "    pickle.dump(ct,open('model_files/01ohe.sav', 'wb'))\n",
    "\n",
    "    y = dataset.iloc[:, -1].values\n",
    "    #Training Model\n",
    "    classifier = RandomForestClassifier(n_estimators = 75, criterion = 'entropy', random_state = 0,bootstrap=True,\n",
    "                                    ccp_alpha=0.0, class_weight=None, max_depth=None, max_features='auto',\n",
    "                       max_leaf_nodes=None, max_samples=None,min_impurity_decrease=0.0, min_impurity_split=None,\n",
    "                       min_samples_leaf=1, min_samples_split=2, min_weight_fraction_leaf=0.0,n_jobs=None, oob_score=False, verbose=0,\n",
    "                       warm_start=False)\n",
    "    classifier.fit(X, y)\n",
    "    pickle.dump(classifier,  open('model_files/02randomforest.sav', 'wb'))\n",
    "\n",
    "    #Score\n",
    "    y_pred = classifier.predict(X)\n",
    "    y_prob = classifier.predict_proba(X)\n",
    "    y_conf = [(np.max(pred_err)*100) for pred_err in y_prob]\n",
    "    print(y_conf)\n",
    "    cm = confusion_matrix(y, y_pred)\n",
    "    #cm = confusion_matrix(y, classifier.predict(X))\n",
    "    print( accuracy_score(y, y_pred))\n",
    "    print(classification_report(y, y_pred))\n",
    "    y_actual=label_encoder_y.inverse_transform(y)\n",
    "    return(accuracy_score)"
   ]
  },
  {
   "cell_type": "code",
   "execution_count": null,
   "metadata": {},
   "outputs": [],
   "source": []
  }
 ],
 "metadata": {
  "kernelspec": {
   "display_name": "Python 3",
   "language": "python",
   "name": "python3"
  },
  "language_info": {
   "codemirror_mode": {
    "name": "ipython",
    "version": 3
   },
   "file_extension": ".py",
   "mimetype": "text/x-python",
   "name": "python",
   "nbconvert_exporter": "python",
   "pygments_lexer": "ipython3",
   "version": "3.7.6"
  }
 },
 "nbformat": 4,
 "nbformat_minor": 4
}
