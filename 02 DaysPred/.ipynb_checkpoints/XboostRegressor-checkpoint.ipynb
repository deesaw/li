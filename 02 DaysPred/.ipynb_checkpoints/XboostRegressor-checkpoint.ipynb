{
 "cells": [
  {
   "cell_type": "code",
   "execution_count": 1,
   "metadata": {},
   "outputs": [
    {
     "data": {
      "image/png": "[encoded data removed]",
      "text/plain": [
       "<Figure size 432x288 with 1 Axes>"
      ]
     },
     "metadata": {
      "needs_background": "light"
     },
     "output_type": "display_data"
    },
    {
     "data": {
      "image/png": "[encoded data removed]",
      "text/plain": [
       "<Figure size 432x288 with 1 Axes>"
      ]
     },
     "metadata": {
      "needs_background": "light"
     },
     "output_type": "display_data"
    },
    {
     "name": "stdout",
     "output_type": "stream",
     "text": [
      "0.9996170898748387\n",
      "RMSE = 0.262 \n",
      "MSE = 0.06874400411380602 \n",
      "MAE = 0.003708574222054531 \n",
      "R2 = 0.9996170898748385 \n",
      "Adjusted R2 = 0.9996076708067257\n",
      "      Payer Debit_CreditInd.  DaystoPay  istrainset\n",
      "0    100030                H    1.00002           0\n",
      "1    100030                S    1.00002           0\n",
      "2  70000010                S    1.00002           0\n",
      "3    300767                S    1.00002           0\n"
     ]
    },
    {
     "data": {
      "text/plain": [
       "'\\n# Applying Grid Search to find the best model and the best parameters\\nfrom sklearn.model_selection import GridSearchCV\\nparameters = {\\n#    \\'learning_rate\\': [0.10,0.15,0.20,.0.25,0.30,0.35,0.40,.45,0.50],\\n    \\'max_depth\\': [70,80],\\n    \\'n_estimators\\': [500,700]\\n#    \\'max_features\\': [2,3,4,5],\\n#    \\'min_samples_leaf\\': [3, 4, 5],\\n#    \\'min_samples_split\\': [8, 10, 12],\\n#    \\'n_estimators\\': [60,70,75,80]\\n}\\n\\ngrid_search = GridSearchCV(estimator = classifier,\\n                           param_grid = parameters,\\n                           scoring = \\'r2\\',\\n                           cv = 10,\\n                           n_jobs = -1)\\ngrid_search = grid_search.fit(X_train, y_train)\\nbest_accuracy = grid_search.best_score_\\nbest_parameters = grid_search.best_params_\\nprint(\"Best Accuracy: {:.2f} %\".format(best_accuracy*100))\\nprint(\"Best Parameters:\", best_parameters)\\n\\n'"
      ]
     },
     "execution_count": 1,
     "metadata": {},
     "output_type": "execute_result"
    }
   ],
   "source": [
    "# Importing the libraries\n",
    "import numpy as np\n",
    "import matplotlib.pyplot as plt\n",
    "import pandas as pd\n",
    "import seaborn as sns\n",
    "\n",
    "dataset = pd.read_csv('Train.tsv',sep='\\t')\n",
    "#print(dataset['Payer'].unique)\n",
    "dataset.drop(dataset[dataset['Payer']=='*'].index,inplace=True)\n",
    "dataset.drop(dataset[dataset['DaystoPay']<=0].index,inplace=True)\n",
    "dataset.drop(columns='PercentofPayAmount',inplace=True)\n",
    "dataset_test = pd.read_csv('Test.tsv',sep='\\t')\n",
    "\n",
    "dataset['istrainset'] = 1\n",
    "dataset_test['DaystoPay']=None\n",
    "dataset_test['istrainset'] = 0\n",
    "dataset_p = pd.concat(objs=[dataset, dataset_test], axis=0)\n",
    "KUNNR=pd.get_dummies(dataset_p['Payer'],drop_first=True)\n",
    "\n",
    "dataset_combined=pd.concat([KUNNR,dataset_p],axis=1)\n",
    "dataset_combined.drop(columns='Payer',inplace=True)\n",
    "\n",
    "\n",
    "dataset_combined['Debit_CreditInd.']=dataset_combined['Debit_CreditInd.'].apply(lambda x: 1 if x == 'S' else 0)\n",
    "\n",
    "X=dataset_combined[dataset_combined['istrainset'] == 1]\n",
    "y=dataset_combined[dataset_combined['istrainset'] == 1]['DaystoPay']\n",
    "X_xls=dataset_combined[dataset_combined['istrainset'] == 0]\n",
    "y_xls=dataset_combined[dataset_combined['istrainset'] == 0]['DaystoPay']\n",
    "\n",
    "X=np.array(X)\n",
    "y=np.array(y)\n",
    "\n",
    "from sklearn.model_selection import train_test_split\n",
    "X_train, X_test, y_train, y_test = train_test_split(X, y, test_size = 0.25, random_state = 0)\n",
    "\n",
    "import xgboost as xgb\n",
    "classifier = xgb.XGBRegressor(objective ='reg:squarederror', learning_rate = 0.10, max_depth = 70, n_estimators = 500)\n",
    "classifier.fit(X_train, y_train)\n",
    "\n",
    "\n",
    "plt.scatter(y_train,classifier.predict(X_train), color = 'blue')\n",
    "plt.ylabel('Predicted')\n",
    "plt.xlabel('Actual')\n",
    "plt.title('predicted vs Actual value on Train data')\n",
    "plt.show()\n",
    "\n",
    "y_predict=classifier.predict(X_test)\n",
    "plt.scatter(y_test,y_predict, color = 'orange')\n",
    "plt.ylabel('Predicted')\n",
    "plt.xlabel('Actual')\n",
    "plt.title('predicted vs Actual value on Test data')\n",
    "plt.show()\n",
    "y_predict=pd.DataFrame(y_predict)\n",
    "y_actual=pd.DataFrame(y_test)\n",
    "\n",
    "from sklearn.metrics import r2_score, mean_squared_error, mean_absolute_error,mean_squared_error, accuracy_score\n",
    "\n",
    "RMSE = float(format(np.sqrt(mean_squared_error(y_test, y_predict)),'.3f'))\n",
    "k = X_test.shape[1]\n",
    "n = len(y_test)\n",
    "MSE = mean_squared_error(y_test, y_predict)\n",
    "MAE = mean_absolute_error(y_test, y_predict)\n",
    "r2=r2_score(y_test, y_predict)\n",
    "adj_r2 = 1-(1-r2)*(n-1)/(n-k-1)\n",
    "regresssion_model_sklearn_accuracy = classifier.score(X_test, y_test)\n",
    "print(regresssion_model_sklearn_accuracy)\n",
    "print('RMSE =',RMSE, '\\nMSE =',MSE, '\\nMAE =',MAE, '\\nR2 =', r2, '\\nAdjusted R2 =', adj_r2) \n",
    "\n",
    "dataset_test['DaystoPay']=classifier.predict(np.array(X_xls))\n",
    "print(dataset_test)\n",
    "\n",
    "'''\n",
    "# Applying Grid Search to find the best model and the best parameters\n",
    "from sklearn.model_selection import GridSearchCV\n",
    "parameters = {\n",
    "#    'learning_rate': [0.10,0.15,0.20,.0.25,0.30,0.35,0.40,.45,0.50],\n",
    "    'max_depth': [70,80],\n",
    "    'n_estimators': [500,700]\n",
    "#    'max_features': [2,3,4,5],\n",
    "#    'min_samples_leaf': [3, 4, 5],\n",
    "#    'min_samples_split': [8, 10, 12],\n",
    "#    'n_estimators': [60,70,75,80]\n",
    "}\n",
    "\n",
    "grid_search = GridSearchCV(estimator = classifier,\n",
    "                           param_grid = parameters,\n",
    "                           scoring = 'r2',\n",
    "                           cv = 10,\n",
    "                           n_jobs = -1)\n",
    "grid_search = grid_search.fit(X_train, y_train)\n",
    "best_accuracy = grid_search.best_score_\n",
    "best_parameters = grid_search.best_params_\n",
    "print(\"Best Accuracy: {:.2f} %\".format(best_accuracy*100))\n",
    "print(\"Best Parameters:\", best_parameters)\n",
    "\n",
    "'''"
   ]
  },
  {
   "cell_type": "code",
   "execution_count": 2,
   "metadata": {},
   "outputs": [
    {
     "data": {
      "image/png": "[encoded data removed]",
      "text/plain": [
       "<Figure size 432x288 with 1 Axes>"
      ]
     },
     "metadata": {
      "needs_background": "light"
     },
     "output_type": "display_data"
    },
    {
     "data": {
      "image/png": "[encoded data removed]",
      "text/plain": [
       "<Figure size 432x288 with 1 Axes>"
      ]
     },
     "metadata": {
      "needs_background": "light"
     },
     "output_type": "display_data"
    },
    {
     "name": "stdout",
     "output_type": "stream",
     "text": [
      "0.9999916828744997\n",
      "RMSE = 0.019 \n",
      "MSE = 0.000377805579724829 \n",
      "MAE = 0.0015739327626508545 \n",
      "R2 = 0.9999916828744996 \n",
      "Adjusted R2 = 0.9999914627104264\n",
      "      Payer Debit_CreditInd.  PercentofPayAmount  istrainset\n",
      "0    100030                H            0.000117           0\n",
      "1    100030                S            0.000144           0\n",
      "2  70000010                S            0.000144           0\n",
      "3    300767                S            0.000144           0\n"
     ]
    },
    {
     "data": {
      "text/plain": [
       "'\\n# Applying Grid Search to find the best model and the best parameters\\nfrom sklearn.model_selection import GridSearchCV\\nparameters = {\\n#    \\'learning_rate\\': [0.10,0.15,0.20,.0.25,0.30,0.35,0.40,.45,0.50],\\n    \\'max_depth\\': [70,80],\\n    \\'n_estimators\\': [500,700]\\n#    \\'max_features\\': [2,3,4,5],\\n#    \\'min_samples_leaf\\': [3, 4, 5],\\n#    \\'min_samples_split\\': [8, 10, 12],\\n#    \\'n_estimators\\': [60,70,75,80]\\n}\\n\\ngrid_search = GridSearchCV(estimator = classifier,\\n                           param_grid = parameters,\\n                           scoring = \\'r2\\',\\n                           cv = 10,\\n                           n_jobs = -1)\\ngrid_search = grid_search.fit(X_train, y_train)\\nbest_accuracy = grid_search.best_score_\\nbest_parameters = grid_search.best_params_\\nprint(\"Best Accuracy: {:.2f} %\".format(best_accuracy*100))\\nprint(\"Best Parameters:\", best_parameters)\\n\\n'"
      ]
     },
     "execution_count": 2,
     "metadata": {},
     "output_type": "execute_result"
    }
   ],
   "source": [
    "\n",
    "# Importing the libraries\n",
    "import numpy as np\n",
    "import matplotlib.pyplot as plt\n",
    "import pandas as pd\n",
    "import seaborn as sns\n",
    "\n",
    "dataset = pd.read_csv('Train.tsv',sep='\\t')\n",
    "#print(dataset['Payer'].unique)\n",
    "dataset.drop(dataset[dataset['Payer']=='*'].index,inplace=True)\n",
    "dataset.drop(dataset[dataset['PercentofPayAmount']>=100].index,inplace=True)\n",
    "dataset.drop(columns='DaystoPay',inplace=True)\n",
    "dataset_test = pd.read_csv('Test.tsv',sep='\\t')\n",
    "\n",
    "dataset['istrainset'] = 1\n",
    "dataset_test['PercentofPayAmount']=None\n",
    "dataset_test['istrainset'] = 0\n",
    "dataset_p = pd.concat(objs=[dataset, dataset_test], axis=0)\n",
    "KUNNR=pd.get_dummies(dataset_p['Payer'],drop_first=True)\n",
    "\n",
    "dataset_combined=pd.concat([KUNNR,dataset_p],axis=1)\n",
    "dataset_combined.drop(columns='Payer',inplace=True)\n",
    "\n",
    "\n",
    "dataset_combined['Debit_CreditInd.']=dataset_combined['Debit_CreditInd.'].apply(lambda x: 1 if x == 'S' else 0)\n",
    "\n",
    "X=dataset_combined[dataset_combined['istrainset'] == 1]\n",
    "y=dataset_combined[dataset_combined['istrainset'] == 1]['PercentofPayAmount']\n",
    "X_xls=dataset_combined[dataset_combined['istrainset'] == 0]\n",
    "y_xls=dataset_combined[dataset_combined['istrainset'] == 0]['PercentofPayAmount']\n",
    "\n",
    "X=np.array(X)\n",
    "y=np.array(y)\n",
    "\n",
    "from sklearn.model_selection import train_test_split\n",
    "X_train, X_test, y_train, y_test = train_test_split(X, y, test_size = 0.25, random_state = 0)\n",
    "\n",
    "import xgboost as xgb\n",
    "classifier = xgb.XGBRegressor(objective ='reg:squarederror', learning_rate = 0.10, max_depth = 70, n_estimators = 500)\n",
    "classifier.fit(X_train, y_train)\n",
    "\n",
    "\n",
    "plt.scatter(y_train,classifier.predict(X_train), color = 'green')\n",
    "plt.ylabel('Predicted')\n",
    "plt.xlabel('Actual')\n",
    "plt.title('predicted vs Actual value on Train data')\n",
    "plt.show()\n",
    "\n",
    "y_predict=classifier.predict(X_test)\n",
    "plt.scatter(y_test,y_predict, color = 'blue')\n",
    "plt.ylabel('Predicted')\n",
    "plt.xlabel('Actual')\n",
    "plt.title('predicted vs Actual value on Test data')\n",
    "plt.show()\n",
    "y_predict=pd.DataFrame(y_predict)\n",
    "y_actual=pd.DataFrame(y_test)\n",
    "\n",
    "from sklearn.metrics import r2_score, mean_squared_error, mean_absolute_error,mean_squared_error, accuracy_score\n",
    "\n",
    "RMSE = float(format(np.sqrt(mean_squared_error(y_test, y_predict)),'.3f'))\n",
    "k = X_test.shape[1]\n",
    "n = len(y_test)\n",
    "MSE = mean_squared_error(y_test, y_predict)\n",
    "MAE = mean_absolute_error(y_test, y_predict)\n",
    "r2=r2_score(y_test, y_predict)\n",
    "adj_r2 = 1-(1-r2)*(n-1)/(n-k-1)\n",
    "regresssion_model_sklearn_accuracy = classifier.score(X_test, y_test)\n",
    "print(regresssion_model_sklearn_accuracy)\n",
    "print('RMSE =',RMSE, '\\nMSE =',MSE, '\\nMAE =',MAE, '\\nR2 =', r2, '\\nAdjusted R2 =', adj_r2) \n",
    "\n",
    "dataset_test['PercentofPayAmount']=classifier.predict(np.array(X_xls))\n",
    "print(dataset_test)\n",
    "'''\n",
    "# Applying Grid Search to find the best model and the best parameters\n",
    "from sklearn.model_selection import GridSearchCV\n",
    "parameters = {\n",
    "#    'learning_rate': [0.10,0.15,0.20,.0.25,0.30,0.35,0.40,.45,0.50],\n",
    "    'max_depth': [70,80],\n",
    "    'n_estimators': [500,700]\n",
    "#    'max_features': [2,3,4,5],\n",
    "#    'min_samples_leaf': [3, 4, 5],\n",
    "#    'min_samples_split': [8, 10, 12],\n",
    "#    'n_estimators': [60,70,75,80]\n",
    "}\n",
    "\n",
    "grid_search = GridSearchCV(estimator = classifier,\n",
    "                           param_grid = parameters,\n",
    "                           scoring = 'r2',\n",
    "                           cv = 10,\n",
    "                           n_jobs = -1)\n",
    "grid_search = grid_search.fit(X_train, y_train)\n",
    "best_accuracy = grid_search.best_score_\n",
    "best_parameters = grid_search.best_params_\n",
    "print(\"Best Accuracy: {:.2f} %\".format(best_accuracy*100))\n",
    "print(\"Best Parameters:\", best_parameters)\n",
    "\n",
    "'''\n"
   ]
  },
  {
   "cell_type": "code",
   "execution_count": 5,
   "metadata": {},
   "outputs": [
    {
     "data": {
      "text/html": [
       "<div>\n",
       "<style scoped>\n",
       "    .dataframe tbody tr th:only-of-type {\n",
       "        vertical-align: middle;\n",
       "    }\n",
       "\n",
       "    .dataframe tbody tr th {\n",
       "        vertical-align: top;\n",
       "    }\n",
       "\n",
       "    .dataframe thead th {\n",
       "        text-align: right;\n",
       "    }\n",
       "</style>\n",
       "<table border=\"1\" class=\"dataframe\">\n",
       "  <thead>\n",
       "    <tr style=\"text-align: right;\">\n",
       "      <th></th>\n",
       "      <th>Payer</th>\n",
       "      <th>Debit_CreditInd.</th>\n",
       "      <th>PercentofPayAmount</th>\n",
       "      <th>istrainset</th>\n",
       "    </tr>\n",
       "  </thead>\n",
       "  <tbody>\n",
       "    <tr>\n",
       "      <th>0</th>\n",
       "      <td>100030</td>\n",
       "      <td>H</td>\n",
       "      <td>0.000117</td>\n",
       "      <td>0</td>\n",
       "    </tr>\n",
       "    <tr>\n",
       "      <th>1</th>\n",
       "      <td>100030</td>\n",
       "      <td>S</td>\n",
       "      <td>0.000144</td>\n",
       "      <td>0</td>\n",
       "    </tr>\n",
       "    <tr>\n",
       "      <th>2</th>\n",
       "      <td>70000010</td>\n",
       "      <td>S</td>\n",
       "      <td>0.000144</td>\n",
       "      <td>0</td>\n",
       "    </tr>\n",
       "    <tr>\n",
       "      <th>3</th>\n",
       "      <td>300767</td>\n",
       "      <td>S</td>\n",
       "      <td>0.000144</td>\n",
       "      <td>0</td>\n",
       "    </tr>\n",
       "  </tbody>\n",
       "</table>\n",
       "</div>"
      ],
      "text/plain": [
       "      Payer Debit_CreditInd.  PercentofPayAmount  istrainset\n",
       "0    100030                H            0.000117           0\n",
       "1    100030                S            0.000144           0\n",
       "2  70000010                S            0.000144           0\n",
       "3    300767                S            0.000144           0"
      ]
     },
     "execution_count": 5,
     "metadata": {},
     "output_type": "execute_result"
    }
   ],
   "source": [
    "dataset_test"
   ]
  },
  {
   "cell_type": "code",
   "execution_count": 3,
   "metadata": {},
   "outputs": [
    {
     "data": {
      "text/html": [
       "<div>\n",
       "<style scoped>\n",
       "    .dataframe tbody tr th:only-of-type {\n",
       "        vertical-align: middle;\n",
       "    }\n",
       "\n",
       "    .dataframe tbody tr th {\n",
       "        vertical-align: top;\n",
       "    }\n",
       "\n",
       "    .dataframe thead th {\n",
       "        text-align: right;\n",
       "    }\n",
       "</style>\n",
       "<table border=\"1\" class=\"dataframe\">\n",
       "  <thead>\n",
       "    <tr style=\"text-align: right;\">\n",
       "      <th></th>\n",
       "      <th>Payer</th>\n",
       "      <th>Debit_CreditInd.</th>\n",
       "      <th>DaystoPay</th>\n",
       "      <th>istrainset</th>\n",
       "    </tr>\n",
       "  </thead>\n",
       "  <tbody>\n",
       "    <tr>\n",
       "      <th>0</th>\n",
       "      <td>100030</td>\n",
       "      <td>H</td>\n",
       "      <td>1.00002</td>\n",
       "      <td>0</td>\n",
       "    </tr>\n",
       "    <tr>\n",
       "      <th>1</th>\n",
       "      <td>100030</td>\n",
       "      <td>S</td>\n",
       "      <td>1.00002</td>\n",
       "      <td>0</td>\n",
       "    </tr>\n",
       "    <tr>\n",
       "      <th>2</th>\n",
       "      <td>70000010</td>\n",
       "      <td>S</td>\n",
       "      <td>1.00002</td>\n",
       "      <td>0</td>\n",
       "    </tr>\n",
       "    <tr>\n",
       "      <th>3</th>\n",
       "      <td>300767</td>\n",
       "      <td>S</td>\n",
       "      <td>1.00002</td>\n",
       "      <td>0</td>\n",
       "    </tr>\n",
       "  </tbody>\n",
       "</table>\n",
       "</div>"
      ],
      "text/plain": [
       "      Payer Debit_CreditInd.  DaystoPay  istrainset\n",
       "0    100030                H    1.00002           0\n",
       "1    100030                S    1.00002           0\n",
       "2  70000010                S    1.00002           0\n",
       "3    300767                S    1.00002           0"
      ]
     },
     "execution_count": 3,
     "metadata": {},
     "output_type": "execute_result"
    }
   ],
   "source": [
    "dataset_test"
   ]
  },
  {
   "cell_type": "code",
   "execution_count": null,
   "metadata": {},
   "outputs": [],
   "source": []
  }
 ],
 "metadata": {
  "kernelspec": {
   "display_name": "Python 3",
   "language": "python",
   "name": "python3"
  },
  "language_info": {
   "codemirror_mode": {
    "name": "ipython",
    "version": 3
   },
   "file_extension": ".py",
   "mimetype": "text/x-python",
   "name": "python",
   "nbconvert_exporter": "python",
   "pygments_lexer": "ipython3",
   "version": "3.7.6"
  }
 },
 "nbformat": 4,
 "nbformat_minor": 4
}
