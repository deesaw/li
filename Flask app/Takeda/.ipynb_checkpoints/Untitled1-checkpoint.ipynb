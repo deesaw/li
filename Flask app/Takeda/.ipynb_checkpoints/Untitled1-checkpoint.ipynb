{
 "cells": [
  {
   "cell_type": "code",
   "execution_count": 1,
   "metadata": {},
   "outputs": [],
   "source": [
    "import pandas as pd\n",
    "import numpy as np\n",
    "import matplotlib.pyplot as plt\n",
    "import matplotlib.image as mpimg\n",
    "import h5py\n",
    "import cv2\n",
    "import os\n",
    "\n",
    "from tensorflow.keras.layers import Conv2D, Flatten, Dense,Input,concatenate,MaxPooling2D\n",
    "from tensorflow.keras.layers import Activation,Dropout\n",
    "from tensorflow.keras.models import Model\n",
    "from tensorflow.keras.models import Sequential\n",
    "from tensorflow import keras\n",
    "\n",
    "import swifter\n",
    "\n",
    "#from keras.layers import Flatten, Dense, Input,concatenate\n",
    "#from keras.layers import Conv2D, MaxPooling2D\n",
    "#from keras.layers import Activation, Dropout\n",
    "#from keras.models import Model\n",
    "#from keras.models import Sequential\n",
    "#import tensorflow as tf\n",
    "from scipy import spatial\n",
    "import warnings\n",
    "warnings.filterwarnings(\"ignore\")\n"
   ]
  },
  {
   "cell_type": "code",
   "execution_count": 2,
   "metadata": {},
   "outputs": [],
   "source": [
    "## Load vgg16 pre-trained model\n",
    "vgg16 = keras.applications.VGG16(weights='imagenet', include_top=True, pooling='max', input_shape=(224, 224, 3))\n",
    "## Extracted features\n",
    "basemodel = Model(inputs=vgg16.input, outputs=vgg16.get_layer('fc2').output)\n",
    "\n",
    "##To get feature vector\n",
    "def get_feature_vector(img):\n",
    "\n",
    "    img1 = cv2.resize(img, (224, 224))\n",
    "    feature_vector = basemodel.predict(img1.reshape(1, 224, 224, 3))\n",
    "    return feature_vector\n",
    "\n",
    "##Cosine similarity\n",
    "def calculate_similarity(vector1, vector2):\n",
    "    return (1-spatial.distance.cosine(vector1, vector2))"
   ]
  },
  {
   "cell_type": "code",
   "execution_count": 3,
   "metadata": {},
   "outputs": [],
   "source": [
    "def preprocessimage(image):\n",
    "    print(\"preprocessing\")\n",
    "    print(image)\n",
    "    #return image\n",
    "    contrast_file = cv2.imread(image)\n",
    "    #return contrast_file\n",
    "    contrast_file = cv2.resize(contrast_file,(224,224),3)\n",
    "    f1=get_feature_vector(contrast_file)\n",
    "    return f1\n",
    "def preprocessimaget(image):\n",
    "    image=image+'1'\n",
    "    return image"
   ]
  },
  {
   "cell_type": "code",
   "execution_count": 4,
   "metadata": {},
   "outputs": [],
   "source": [
    "def slideSimilarity(uploaded_file):\n",
    "    master = os.path.join(os.getcwd(),\"Takeda\")\n",
    "    uploaded_file='uploads_f\\\\' + uploaded_file\n",
    "    slave = os.path.join(os.getcwd(),uploaded_file)\n",
    "    #print(master)\n",
    "    #print(slave)\n",
    "    master_files = pd.DataFrame([ file_cont for file_cont in os.listdir(master) if file_cont.split('.')[1]=='png' ],columns=['MasterName'])\n",
    "    master_files['Index'] = 1\n",
    "    master_files['Filepath'] =  master +'\\\\'+master_files['MasterName']\n",
    "    slave_files = pd.DataFrame([ file_cont for file_cont in os.listdir(slave) if file_cont.split('.')[1]=='png' ],columns=['SlaveName'])\n",
    "    slave_files['Index'] = 1\n",
    "    slave_files['Filepath'] = slave+'\\\\'+slave_files['SlaveName']\n",
    "    df_slave_master =  master_files.merge(slave_files,on='Index',how=\"left\").head(2)\n",
    "    #print('featurevector_Takeda')\n",
    "    df_slave_master['featurevector_x']=df_slave_master['Filepath_x'].swifter.apply(preprocessimage)\n",
    "    '''\n",
    "    print(df_slave_master)\n",
    "    print('featurevector_Doctor')\n",
    "    df_slave_master['featurevector_y']=df_slave_master['Filepath_y'].swifter.apply(preprocessimage)\n",
    "\n",
    "    df_slave_master['similarity']  =  df_slave_master['featurevector_x','featurevector_y'].swifter.apply(calculate_similarity)\n",
    "    print(df_slave_master.head)\n",
    "    '''\n",
    "    return df_slave_master"
   ]
  },
  {
   "cell_type": "code",
   "execution_count": 5,
   "metadata": {},
   "outputs": [],
   "source": [
    "def calculate_similarity(vector1, vector2):\n",
    "    return (1-spatial.distance.cosine(vector1, vector2))\n",
    "def preprocessimage(image1,image2):\n",
    "    print(\"preprocessing\")\n",
    "    print(image1)\n",
    "    contrast_file = cv2.imread(image1)\n",
    "    contrast_file = cv2.resize(contrast_file,(224,224),3)\n",
    "    f1=get_feature_vector(contrast_file)\n",
    "    print(image2)\n",
    "    contrast_file = cv2.imread(image2)\n",
    "    contrast_file = cv2.resize(contrast_file,(224,224),3)\n",
    "    f2=get_feature_vector(contrast_file)\n",
    "    similarity=calculate_similarity(f1,f2)\n",
    "    return similarity"
   ]
  },
  {
   "cell_type": "code",
   "execution_count": 56,
   "metadata": {},
   "outputs": [
    {
     "ename": "SystemError",
     "evalue": "<built-in function imread> returned NULL without setting an error",
     "output_type": "error",
     "traceback": [
      "\u001b[1;31m---------------------------------------------------------------------------\u001b[0m",
      "\u001b[1;31mSystemError\u001b[0m                               Traceback (most recent call last)",
      "\u001b[1;32m<ipython-input-56-e16e71ad294e>\u001b[0m in \u001b[0;36m<module>\u001b[1;34m\u001b[0m\n\u001b[1;32m----> 1\u001b[1;33m \u001b[0mslideSimilarity\u001b[0m\u001b[1;33m(\u001b[0m\u001b[1;34m'Doctortest6'\u001b[0m\u001b[1;33m)\u001b[0m\u001b[1;33m\u001b[0m\u001b[1;33m\u001b[0m\u001b[0m\n\u001b[0m",
      "\u001b[1;32m<ipython-input-55-820aee923124>\u001b[0m in \u001b[0;36mslideSimilarity\u001b[1;34m(uploaded_file)\u001b[0m\n\u001b[0;32m     13\u001b[0m     \u001b[0mdf_slave_master\u001b[0m \u001b[1;33m=\u001b[0m  \u001b[0mmaster_files\u001b[0m\u001b[1;33m.\u001b[0m\u001b[0mmerge\u001b[0m\u001b[1;33m(\u001b[0m\u001b[0mslave_files\u001b[0m\u001b[1;33m,\u001b[0m\u001b[0mon\u001b[0m\u001b[1;33m=\u001b[0m\u001b[1;34m'Index'\u001b[0m\u001b[1;33m,\u001b[0m\u001b[0mhow\u001b[0m\u001b[1;33m=\u001b[0m\u001b[1;34m\"left\"\u001b[0m\u001b[1;33m)\u001b[0m\u001b[1;33m.\u001b[0m\u001b[0mhead\u001b[0m\u001b[1;33m(\u001b[0m\u001b[1;36m2\u001b[0m\u001b[1;33m)\u001b[0m\u001b[1;33m\u001b[0m\u001b[1;33m\u001b[0m\u001b[0m\n\u001b[0;32m     14\u001b[0m     \u001b[1;31m#print('featurevector_Takeda')\u001b[0m\u001b[1;33m\u001b[0m\u001b[1;33m\u001b[0m\u001b[1;33m\u001b[0m\u001b[0m\n\u001b[1;32m---> 15\u001b[1;33m     \u001b[0mdf_slave_master\u001b[0m\u001b[1;33m[\u001b[0m\u001b[1;34m'featurevector_x'\u001b[0m\u001b[1;33m]\u001b[0m\u001b[1;33m=\u001b[0m\u001b[0mdf_slave_master\u001b[0m\u001b[1;33m[\u001b[0m\u001b[1;34m'Filepath_x'\u001b[0m\u001b[1;33m]\u001b[0m\u001b[1;33m.\u001b[0m\u001b[0mswifter\u001b[0m\u001b[1;33m.\u001b[0m\u001b[0mapply\u001b[0m\u001b[1;33m(\u001b[0m\u001b[0mpreprocessimage\u001b[0m\u001b[1;33m)\u001b[0m\u001b[1;33m\u001b[0m\u001b[1;33m\u001b[0m\u001b[0m\n\u001b[0m\u001b[0;32m     16\u001b[0m     '''\n\u001b[0;32m     17\u001b[0m     \u001b[0mprint\u001b[0m\u001b[1;33m(\u001b[0m\u001b[0mdf_slave_master\u001b[0m\u001b[1;33m)\u001b[0m\u001b[1;33m\u001b[0m\u001b[1;33m\u001b[0m\u001b[0m\n",
      "\u001b[1;32m~\\Anaconda3\\lib\\site-packages\\swifter\\swifter.py\u001b[0m in \u001b[0;36mapply\u001b[1;34m(self, func, convert_dtype, args, **kwds)\u001b[0m\n\u001b[0;32m    210\u001b[0m         \u001b[1;32mtry\u001b[0m\u001b[1;33m:\u001b[0m  \u001b[1;31m# try to vectorize\u001b[0m\u001b[1;33m\u001b[0m\u001b[1;33m\u001b[0m\u001b[0m\n\u001b[0;32m    211\u001b[0m             \u001b[1;32mwith\u001b[0m \u001b[0msuppress_stdout_stderr\u001b[0m\u001b[1;33m(\u001b[0m\u001b[1;33m)\u001b[0m\u001b[1;33m:\u001b[0m\u001b[1;33m\u001b[0m\u001b[1;33m\u001b[0m\u001b[0m\n\u001b[1;32m--> 212\u001b[1;33m                 \u001b[0mtmp_df\u001b[0m \u001b[1;33m=\u001b[0m \u001b[0mfunc\u001b[0m\u001b[1;33m(\u001b[0m\u001b[0msample\u001b[0m\u001b[1;33m,\u001b[0m \u001b[1;33m*\u001b[0m\u001b[0margs\u001b[0m\u001b[1;33m,\u001b[0m \u001b[1;33m**\u001b[0m\u001b[0mkwds\u001b[0m\u001b[1;33m)\u001b[0m\u001b[1;33m\u001b[0m\u001b[1;33m\u001b[0m\u001b[0m\n\u001b[0m\u001b[0;32m    213\u001b[0m                 \u001b[0msample_df\u001b[0m \u001b[1;33m=\u001b[0m \u001b[0msample\u001b[0m\u001b[1;33m.\u001b[0m\u001b[0mapply\u001b[0m\u001b[1;33m(\u001b[0m\u001b[0mfunc\u001b[0m\u001b[1;33m,\u001b[0m \u001b[0mconvert_dtype\u001b[0m\u001b[1;33m=\u001b[0m\u001b[0mconvert_dtype\u001b[0m\u001b[1;33m,\u001b[0m \u001b[0margs\u001b[0m\u001b[1;33m=\u001b[0m\u001b[0margs\u001b[0m\u001b[1;33m,\u001b[0m \u001b[1;33m**\u001b[0m\u001b[0mkwds\u001b[0m\u001b[1;33m)\u001b[0m\u001b[1;33m\u001b[0m\u001b[1;33m\u001b[0m\u001b[0m\n\u001b[0;32m    214\u001b[0m                 self._validate_apply(\n",
      "\u001b[1;32m<ipython-input-54-31f625de07b4>\u001b[0m in \u001b[0;36mpreprocessimage\u001b[1;34m(image)\u001b[0m\n\u001b[0;32m      3\u001b[0m     \u001b[0mprint\u001b[0m\u001b[1;33m(\u001b[0m\u001b[0mimage\u001b[0m\u001b[1;33m)\u001b[0m\u001b[1;33m\u001b[0m\u001b[1;33m\u001b[0m\u001b[0m\n\u001b[0;32m      4\u001b[0m     \u001b[1;31m#return image\u001b[0m\u001b[1;33m\u001b[0m\u001b[1;33m\u001b[0m\u001b[1;33m\u001b[0m\u001b[0m\n\u001b[1;32m----> 5\u001b[1;33m     \u001b[0mcontrast_file\u001b[0m \u001b[1;33m=\u001b[0m \u001b[0mcv2\u001b[0m\u001b[1;33m.\u001b[0m\u001b[0mimread\u001b[0m\u001b[1;33m(\u001b[0m\u001b[0mimage\u001b[0m\u001b[1;33m)\u001b[0m\u001b[1;33m\u001b[0m\u001b[1;33m\u001b[0m\u001b[0m\n\u001b[0m\u001b[0;32m      6\u001b[0m     \u001b[1;32mreturn\u001b[0m \u001b[0mcontrast_file\u001b[0m\u001b[1;33m\u001b[0m\u001b[1;33m\u001b[0m\u001b[0m\n\u001b[0;32m      7\u001b[0m     \u001b[0mcontrast_file\u001b[0m \u001b[1;33m=\u001b[0m \u001b[0mcv2\u001b[0m\u001b[1;33m.\u001b[0m\u001b[0mresize\u001b[0m\u001b[1;33m(\u001b[0m\u001b[0mcontrast_file\u001b[0m\u001b[1;33m,\u001b[0m\u001b[1;33m(\u001b[0m\u001b[1;36m224\u001b[0m\u001b[1;33m,\u001b[0m\u001b[1;36m224\u001b[0m\u001b[1;33m)\u001b[0m\u001b[1;33m,\u001b[0m\u001b[1;36m3\u001b[0m\u001b[1;33m)\u001b[0m\u001b[1;33m\u001b[0m\u001b[1;33m\u001b[0m\u001b[0m\n",
      "\u001b[1;31mSystemError\u001b[0m: <built-in function imread> returned NULL without setting an error"
     ]
    }
   ],
   "source": [
    "slideSimilarity('Doctortest6')"
   ]
  },
  {
   "cell_type": "code",
   "execution_count": 6,
   "metadata": {},
   "outputs": [],
   "source": [
    "def calculate_similarity(vector1, vector2):\n",
    "    return (1-spatial.distance.cosine(vector1, vector2))\n",
    "def preprocessimage(image):\n",
    "    image1=image.split('::')[0]\n",
    "    print(\"preprocessing\")\n",
    "    print(image1)\n",
    "    contrast_file = cv2.imread(image1)\n",
    "    contrast_file = cv2.resize(contrast_file,(224,224),3)\n",
    "    f1=get_feature_vector(contrast_file)\n",
    "    image2=image.split('::')[1]\n",
    "    print(image2)\n",
    "    contrast_file = cv2.imread(image2)\n",
    "    contrast_file = cv2.resize(contrast_file,(224,224),3)\n",
    "    f2=get_feature_vector(contrast_file)\n",
    "    similarity=calculate_similarity(f1,f2)\n",
    "    return similarity\n",
    "    "
   ]
  },
  {
   "cell_type": "code",
   "execution_count": 113,
   "metadata": {},
   "outputs": [
    {
     "data": {
      "application/vnd.jupyter.widget-view+json": {
       "model_id": "da10d950724346a4a83533e01d0e26e2",
       "version_major": 2,
       "version_minor": 0
      },
      "text/plain": [
       "HBox(children=(FloatProgress(value=0.0, description='Pandas Apply', max=2.0, style=ProgressStyle(description_w…"
      ]
     },
     "metadata": {},
     "output_type": "display_data"
    },
    {
     "name": "stdout",
     "output_type": "stream",
     "text": [
      "preprocessing\n",
      "C:\\Users\\deesaw\\Desktop\\GPFI\\Flask app\\Takeda\\Takeda\\Takeda_Page_001.png\n",
      "C:\\Users\\deesaw\\Desktop\\GPFI\\Flask app\\Takeda\\uploads_f\\Doctortest6\\Doctor_Page_01.png\n",
      "preprocessing\n",
      "C:\\Users\\deesaw\\Desktop\\GPFI\\Flask app\\Takeda\\Takeda\\Takeda_Page_001.png\n",
      "C:\\Users\\deesaw\\Desktop\\GPFI\\Flask app\\Takeda\\uploads_f\\Doctortest6\\Doctor_Page_02.png\n",
      "\n"
     ]
    }
   ],
   "source": [
    "    master = os.path.join(os.getcwd(),\"Takeda\")\n",
    "    uploaded_file='Doctortest6'\n",
    "    uploaded_file='uploads_f\\\\' + uploaded_file\n",
    "    slave = os.path.join(os.getcwd(),uploaded_file)\n",
    "    master_files = pd.DataFrame([ file_cont for file_cont in os.listdir(master) if file_cont.split('.')[1]=='png' ],columns=['MasterName'])\n",
    "    master_files['Index'] = 1\n",
    "    master_files['Filepath'] =  master+'\\\\'+master_files['MasterName']\n",
    "    slave_files = pd.DataFrame([ file_cont for file_cont in os.listdir(slave) if file_cont.split('.')[1]=='png' ],columns=['SlaveName'])\n",
    "    slave_files['Index'] = 1\n",
    "    slave_files['Filepath'] = slave+'\\\\'+slave_files['SlaveName']\n",
    "    df_slave_master =  master_files.merge(slave_files,on='Index',how=\"left\").head(2)\n",
    "    df_slave_master['MasterPath']=df_slave_master['Filepath_x']+'::'+df_slave_master['Filepath_y']\n",
    "    df_slave_master['similarity']  =df_slave_master['MasterPath'].swifter.apply(preprocessimage)\n"
   ]
  },
  {
   "cell_type": "code",
   "execution_count": 117,
   "metadata": {},
   "outputs": [
    {
     "data": {
      "text/html": [
       "<div>\n",
       "<style scoped>\n",
       "    .dataframe tbody tr th:only-of-type {\n",
       "        vertical-align: middle;\n",
       "    }\n",
       "\n",
       "    .dataframe tbody tr th {\n",
       "        vertical-align: top;\n",
       "    }\n",
       "\n",
       "    .dataframe thead th {\n",
       "        text-align: right;\n",
       "    }\n",
       "</style>\n",
       "<table border=\"1\" class=\"dataframe\">\n",
       "  <thead>\n",
       "    <tr style=\"text-align: right;\">\n",
       "      <th></th>\n",
       "      <th>MasterName</th>\n",
       "      <th>SlaveName</th>\n",
       "      <th>similarity</th>\n",
       "    </tr>\n",
       "  </thead>\n",
       "  <tbody>\n",
       "    <tr>\n",
       "      <th>0</th>\n",
       "      <td>Takeda_Page_001.png</td>\n",
       "      <td>Doctor_Page_01.png</td>\n",
       "      <td>0.413831</td>\n",
       "    </tr>\n",
       "    <tr>\n",
       "      <th>1</th>\n",
       "      <td>Takeda_Page_001.png</td>\n",
       "      <td>Doctor_Page_02.png</td>\n",
       "      <td>0.626990</td>\n",
       "    </tr>\n",
       "  </tbody>\n",
       "</table>\n",
       "</div>"
      ],
      "text/plain": [
       "            MasterName           SlaveName  similarity\n",
       "0  Takeda_Page_001.png  Doctor_Page_01.png    0.413831\n",
       "1  Takeda_Page_001.png  Doctor_Page_02.png    0.626990"
      ]
     },
     "execution_count": 117,
     "metadata": {},
     "output_type": "execute_result"
    }
   ],
   "source": [
    "df_slave_master[['MasterName','SlaveName','similarity']]"
   ]
  },
  {
   "cell_type": "code",
   "execution_count": 80,
   "metadata": {},
   "outputs": [
    {
     "data": {
      "text/plain": [
       "'C:\\\\Users\\\\deesaw\\\\Desktop\\\\GPFI\\\\Flask app\\\\Takeda\\\\Takeda\\\\Takeda_Page_001.png'"
      ]
     },
     "execution_count": 80,
     "metadata": {},
     "output_type": "execute_result"
    }
   ],
   "source": [
    "df_slave_master['Filepath_x'][0]"
   ]
  },
  {
   "cell_type": "code",
   "execution_count": 81,
   "metadata": {},
   "outputs": [
    {
     "name": "stdout",
     "output_type": "stream",
     "text": [
      "preprocessing\n",
      "C:\\Users\\deesaw\\Desktop\\GPFI\\Flask app\\Takeda\\Takeda\\Takeda_Page_001.png\n"
     ]
    },
    {
     "data": {
      "text/plain": [
       "array([[0.        , 0.5392517 , 0.        , ..., 1.2306933 , 0.        ,\n",
       "        0.71405613]], dtype=float32)"
      ]
     },
     "execution_count": 81,
     "metadata": {},
     "output_type": "execute_result"
    }
   ],
   "source": [
    "preprocessimage('C:\\\\Users\\\\deesaw\\\\Desktop\\\\GPFI\\\\Flask app\\\\Takeda\\\\Takeda\\\\Takeda_Page_001.png')"
   ]
  },
  {
   "cell_type": "code",
   "execution_count": 84,
   "metadata": {},
   "outputs": [
    {
     "name": "stdout",
     "output_type": "stream",
     "text": [
      "preprocessing\n",
      "C:\\Users\\deesaw\\Desktop\\GPFI\\Flask app\\Takeda\\Takeda\\Takeda_Page_001.png\n",
      "[[0.         0.5392517  0.         ... 1.2306933  0.         0.71405613]]\n"
     ]
    }
   ],
   "source": [
    "print(preprocessimage(df_slave_master['Filepath_x'][0]))"
   ]
  },
  {
   "cell_type": "code",
   "execution_count": 92,
   "metadata": {},
   "outputs": [],
   "source": [
    "df_slave_master['featurevector_x']=df_slave_master['Filepath_x'].swifter.apply(preprocessimaget)"
   ]
  },
  {
   "cell_type": "code",
   "execution_count": 86,
   "metadata": {},
   "outputs": [],
   "source": [
    "import swifter"
   ]
  },
  {
   "cell_type": "code",
   "execution_count": 93,
   "metadata": {},
   "outputs": [
    {
     "data": {
      "text/plain": [
       "'C:\\\\Users\\\\deesaw\\\\Desktop\\\\GPFI\\\\Flask app\\\\Takeda\\\\Takeda\\\\Takeda_Page_001.png1'"
      ]
     },
     "execution_count": 93,
     "metadata": {},
     "output_type": "execute_result"
    }
   ],
   "source": [
    "df_slave_master['featurevector_x'][0]"
   ]
  },
  {
   "cell_type": "code",
   "execution_count": 89,
   "metadata": {},
   "outputs": [],
   "source": [
    "import swifter\n",
    "import pandas as pd\n",
    "\n",
    "def some_function(data):\n",
    "    return data * 10\n",
    "data=pd.DataFrame()\n",
    "data['in']=[1,2,3,4,5,6,7,8,9,10]\n",
    "data['out'] = data['in'].swifter.apply(some_function)"
   ]
  },
  {
   "cell_type": "code",
   "execution_count": 90,
   "metadata": {},
   "outputs": [
    {
     "data": {
      "text/html": [
       "<div>\n",
       "<style scoped>\n",
       "    .dataframe tbody tr th:only-of-type {\n",
       "        vertical-align: middle;\n",
       "    }\n",
       "\n",
       "    .dataframe tbody tr th {\n",
       "        vertical-align: top;\n",
       "    }\n",
       "\n",
       "    .dataframe thead th {\n",
       "        text-align: right;\n",
       "    }\n",
       "</style>\n",
       "<table border=\"1\" class=\"dataframe\">\n",
       "  <thead>\n",
       "    <tr style=\"text-align: right;\">\n",
       "      <th></th>\n",
       "      <th>in</th>\n",
       "      <th>out</th>\n",
       "    </tr>\n",
       "  </thead>\n",
       "  <tbody>\n",
       "    <tr>\n",
       "      <th>0</th>\n",
       "      <td>1</td>\n",
       "      <td>10</td>\n",
       "    </tr>\n",
       "    <tr>\n",
       "      <th>1</th>\n",
       "      <td>2</td>\n",
       "      <td>20</td>\n",
       "    </tr>\n",
       "    <tr>\n",
       "      <th>2</th>\n",
       "      <td>3</td>\n",
       "      <td>30</td>\n",
       "    </tr>\n",
       "    <tr>\n",
       "      <th>3</th>\n",
       "      <td>4</td>\n",
       "      <td>40</td>\n",
       "    </tr>\n",
       "    <tr>\n",
       "      <th>4</th>\n",
       "      <td>5</td>\n",
       "      <td>50</td>\n",
       "    </tr>\n",
       "    <tr>\n",
       "      <th>5</th>\n",
       "      <td>6</td>\n",
       "      <td>60</td>\n",
       "    </tr>\n",
       "    <tr>\n",
       "      <th>6</th>\n",
       "      <td>7</td>\n",
       "      <td>70</td>\n",
       "    </tr>\n",
       "    <tr>\n",
       "      <th>7</th>\n",
       "      <td>8</td>\n",
       "      <td>80</td>\n",
       "    </tr>\n",
       "    <tr>\n",
       "      <th>8</th>\n",
       "      <td>9</td>\n",
       "      <td>90</td>\n",
       "    </tr>\n",
       "    <tr>\n",
       "      <th>9</th>\n",
       "      <td>10</td>\n",
       "      <td>100</td>\n",
       "    </tr>\n",
       "  </tbody>\n",
       "</table>\n",
       "</div>"
      ],
      "text/plain": [
       "   in  out\n",
       "0   1   10\n",
       "1   2   20\n",
       "2   3   30\n",
       "3   4   40\n",
       "4   5   50\n",
       "5   6   60\n",
       "6   7   70\n",
       "7   8   80\n",
       "8   9   90\n",
       "9  10  100"
      ]
     },
     "execution_count": 90,
     "metadata": {},
     "output_type": "execute_result"
    }
   ],
   "source": [
    "data"
   ]
  },
  {
   "cell_type": "code",
   "execution_count": null,
   "metadata": {},
   "outputs": [],
   "source": []
  }
 ],
 "metadata": {
  "kernelspec": {
   "display_name": "Python 3",
   "language": "python",
   "name": "python3"
  },
  "language_info": {
   "codemirror_mode": {
    "name": "ipython",
    "version": 3
   },
   "file_extension": ".py",
   "mimetype": "text/x-python",
   "name": "python",
   "nbconvert_exporter": "python",
   "pygments_lexer": "ipython3",
   "version": "3.7.6"
  }
 },
 "nbformat": 4,
 "nbformat_minor": 4
}
